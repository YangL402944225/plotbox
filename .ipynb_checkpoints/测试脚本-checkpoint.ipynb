{
 "cells": [
  {
   "cell_type": "code",
   "execution_count": 8,
   "id": "c8d5347f-2672-4d87-9e85-9f7bdd3dc109",
   "metadata": {},
   "outputs": [],
   "source": [
    "from models import PlotModel, LineModel\n",
    "import pandas as pd\n",
    "from plots import Line\n",
    "from fig import Fig"
   ]
  },
  {
   "cell_type": "code",
   "execution_count": 10,
   "id": "71f2a8ca-8f1c-4afa-99a1-7b06ab9b525f",
   "metadata": {},
   "outputs": [
    {
     "data": {
      "text/html": [
       "<div>\n",
       "<style scoped>\n",
       "    .dataframe tbody tr th:only-of-type {\n",
       "        vertical-align: middle;\n",
       "    }\n",
       "\n",
       "    .dataframe tbody tr th {\n",
       "        vertical-align: top;\n",
       "    }\n",
       "\n",
       "    .dataframe thead th {\n",
       "        text-align: right;\n",
       "    }\n",
       "</style>\n",
       "<table border=\"1\" class=\"dataframe\">\n",
       "  <thead>\n",
       "    <tr style=\"text-align: right;\">\n",
       "      <th></th>\n",
       "      <th>时间</th>\n",
       "      <th>数据1</th>\n",
       "      <th>数据2</th>\n",
       "      <th>数据3</th>\n",
       "    </tr>\n",
       "  </thead>\n",
       "  <tbody>\n",
       "    <tr>\n",
       "      <th>0</th>\n",
       "      <td>201501</td>\n",
       "      <td>2.6</td>\n",
       "      <td>3.9</td>\n",
       "      <td>0.01</td>\n",
       "    </tr>\n",
       "    <tr>\n",
       "      <th>1</th>\n",
       "      <td>201502</td>\n",
       "      <td>5.9</td>\n",
       "      <td>5.9</td>\n",
       "      <td>0.02</td>\n",
       "    </tr>\n",
       "    <tr>\n",
       "      <th>2</th>\n",
       "      <td>201503</td>\n",
       "      <td>9.0</td>\n",
       "      <td>11.1</td>\n",
       "      <td>0.01</td>\n",
       "    </tr>\n",
       "    <tr>\n",
       "      <th>3</th>\n",
       "      <td>201504</td>\n",
       "      <td>26.4</td>\n",
       "      <td>18.7</td>\n",
       "      <td>0.02</td>\n",
       "    </tr>\n",
       "    <tr>\n",
       "      <th>4</th>\n",
       "      <td>201505</td>\n",
       "      <td>28.7</td>\n",
       "      <td>48.3</td>\n",
       "      <td>0.01</td>\n",
       "    </tr>\n",
       "  </tbody>\n",
       "</table>\n",
       "</div>"
      ],
      "text/plain": [
       "       时间   数据1   数据2   数据3\n",
       "0  201501   2.6   3.9  0.01\n",
       "1  201502   5.9   5.9  0.02\n",
       "2  201503   9.0  11.1  0.01\n",
       "3  201504  26.4  18.7  0.02\n",
       "4  201505  28.7  48.3  0.01"
      ]
     },
     "execution_count": 10,
     "metadata": {},
     "output_type": "execute_result"
    }
   ],
   "source": [
    "df = pd.DataFrame()\n",
    "df['时间'] = ['201501', '201502', '201503', '201504', '201505', '201506',\n",
    "               '201507','201508', '201509', '201510', '201511', '201512']\n",
    "df['数据1'] = [2.6, 5.9, 9.0, 26.4, 28.7, 70.7, 175.6, 182.2, 48.7, 18.8, 6.0, 2.3]\n",
    "df['数据2'] = [3.9, 5.9, 11.1, 18.7, 48.3, 69.2, 231.6, 46.6, 55.4, 18.4, 10.3, 0.7]\n",
    "df['数据3'] = [0.01, 0.02, 0.01, 0.02, 0.01, 0.028, 0.035, 0.047, 0.078, 0.064, 0.042, 0.039]\n",
    "df.head()"
   ]
  },
  {
   "cell_type": "code",
   "execution_count": 19,
   "id": "e3f2ae64-22fe-4bc0-bfc8-5c2a7ccddaff",
   "metadata": {},
   "outputs": [
    {
     "data": {
      "application/vnd.plotly.v1+json": {
       "config": {
        "displaylogo": false,
        "plotlyServerURL": "https://plot.ly"
       },
       "data": [
        {
         "hoverinfo": "text+x+y",
         "legendgroup": "数据1",
         "line": {
          "color": "#fbc357",
          "dash": "solid",
          "shape": "spline",
          "width": 2
         },
         "marker": {
          "color": "white",
          "line": {
           "color": "#fbc357",
           "width": 2
          },
          "size": 5,
          "symbol": "circle"
         },
         "mode": "lines+markers",
         "name": "数据1",
         "opacity": 0.9,
         "showlegend": true,
         "text": [
          "2.6",
          "5.9",
          "9.0",
          "26.4",
          "28.7",
          "70.7",
          "175.6",
          "182.2",
          "48.7",
          "18.8",
          "6.0",
          "2.3"
         ],
         "textfont": {
          "color": "#fbc357",
          "family": "Kaiti",
          "size": 15
         },
         "textposition": "top center",
         "type": "scatter",
         "x": [
          "201501",
          "201502",
          "201503",
          "201504",
          "201505",
          "201506",
          "201507",
          "201508",
          "201509",
          "201510",
          "201511",
          "201512"
         ],
         "xaxis": "x",
         "y": [
          2.6,
          5.9,
          9,
          26.4,
          28.7,
          70.7,
          175.6,
          182.2,
          48.7,
          18.8,
          6,
          2.3
         ],
         "yaxis": "y"
        },
        {
         "hoverinfo": "text+x+y",
         "legendgroup": "数据2",
         "line": {
          "color": "#8fbf8f",
          "dash": "solid",
          "shape": "spline",
          "width": 2
         },
         "marker": {
          "color": "white",
          "line": {
           "color": "#8fbf8f",
           "width": 2
          },
          "size": 5,
          "symbol": "circle"
         },
         "mode": "lines+markers",
         "name": "数据2",
         "opacity": 0.9,
         "showlegend": true,
         "text": [
          "3.9",
          "5.9",
          "11.1",
          "18.7",
          "48.3",
          "69.2",
          "231.6",
          "46.6",
          "55.4",
          "18.4",
          "10.3",
          "0.7"
         ],
         "textfont": {
          "color": "#8fbf8f",
          "family": "Kaiti",
          "size": 15
         },
         "textposition": "top center",
         "type": "scatter",
         "x": [
          "201501",
          "201502",
          "201503",
          "201504",
          "201505",
          "201506",
          "201507",
          "201508",
          "201509",
          "201510",
          "201511",
          "201512"
         ],
         "xaxis": "x",
         "y": [
          3.9,
          5.9,
          11.1,
          18.7,
          48.3,
          69.2,
          231.6,
          46.6,
          55.4,
          18.4,
          10.3,
          0.7
         ],
         "yaxis": "y"
        },
        {
         "hoverinfo": "text+x+y",
         "legendgroup": "数据3",
         "line": {
          "color": "#659d84",
          "dash": "solid",
          "shape": "spline",
          "width": 2
         },
         "marker": {
          "color": "white",
          "line": {
           "color": "#659d84",
           "width": 2
          },
          "size": 5,
          "symbol": "circle"
         },
         "mode": "lines+markers",
         "name": "数据3",
         "opacity": 0.9,
         "showlegend": true,
         "text": [
          "0.01",
          "0.02",
          "0.01",
          "0.02",
          "0.01",
          "0.028",
          "0.035",
          "0.047",
          "0.078",
          "0.064",
          "0.042",
          "0.039"
         ],
         "textfont": {
          "color": "#659d84",
          "family": "Kaiti",
          "size": 15
         },
         "textposition": "top center",
         "type": "scatter",
         "x": [
          "201501",
          "201502",
          "201503",
          "201504",
          "201505",
          "201506",
          "201507",
          "201508",
          "201509",
          "201510",
          "201511",
          "201512"
         ],
         "xaxis": "x",
         "y": [
          0.01,
          0.02,
          0.01,
          0.02,
          0.01,
          0.028,
          0.035,
          0.047,
          0.078,
          0.064,
          0.042,
          0.039
         ],
         "yaxis": "y2"
        }
       ],
       "layout": {
        "height": 534,
        "legend": {
         "font": {
          "color": "black",
          "family": "Kaiti",
          "size": 13
         },
         "itemclick": "toggle",
         "itemdoubleclick": "toggleothers",
         "title": {},
         "tracegroupgap": 0,
         "x": 1.05,
         "y": 1
        },
        "template": {
         "data": {
          "bar": [
           {
            "error_x": {
             "color": "#2a3f5f"
            },
            "error_y": {
             "color": "#2a3f5f"
            },
            "marker": {
             "line": {
              "color": "#E5ECF6",
              "width": 0.5
             },
             "pattern": {
              "fillmode": "overlay",
              "size": 10,
              "solidity": 0.2
             }
            },
            "type": "bar"
           }
          ],
          "barpolar": [
           {
            "marker": {
             "line": {
              "color": "#E5ECF6",
              "width": 0.5
             },
             "pattern": {
              "fillmode": "overlay",
              "size": 10,
              "solidity": 0.2
             }
            },
            "type": "barpolar"
           }
          ],
          "carpet": [
           {
            "aaxis": {
             "endlinecolor": "#2a3f5f",
             "gridcolor": "white",
             "linecolor": "white",
             "minorgridcolor": "white",
             "startlinecolor": "#2a3f5f"
            },
            "baxis": {
             "endlinecolor": "#2a3f5f",
             "gridcolor": "white",
             "linecolor": "white",
             "minorgridcolor": "white",
             "startlinecolor": "#2a3f5f"
            },
            "type": "carpet"
           }
          ],
          "choropleth": [
           {
            "colorbar": {
             "outlinewidth": 0,
             "ticks": ""
            },
            "type": "choropleth"
           }
          ],
          "contour": [
           {
            "colorbar": {
             "outlinewidth": 0,
             "ticks": ""
            },
            "colorscale": [
             [
              0,
              "#0d0887"
             ],
             [
              0.1111111111111111,
              "#46039f"
             ],
             [
              0.2222222222222222,
              "#7201a8"
             ],
             [
              0.3333333333333333,
              "#9c179e"
             ],
             [
              0.4444444444444444,
              "#bd3786"
             ],
             [
              0.5555555555555556,
              "#d8576b"
             ],
             [
              0.6666666666666666,
              "#ed7953"
             ],
             [
              0.7777777777777778,
              "#fb9f3a"
             ],
             [
              0.8888888888888888,
              "#fdca26"
             ],
             [
              1,
              "#f0f921"
             ]
            ],
            "type": "contour"
           }
          ],
          "contourcarpet": [
           {
            "colorbar": {
             "outlinewidth": 0,
             "ticks": ""
            },
            "type": "contourcarpet"
           }
          ],
          "heatmap": [
           {
            "colorbar": {
             "outlinewidth": 0,
             "ticks": ""
            },
            "colorscale": [
             [
              0,
              "#0d0887"
             ],
             [
              0.1111111111111111,
              "#46039f"
             ],
             [
              0.2222222222222222,
              "#7201a8"
             ],
             [
              0.3333333333333333,
              "#9c179e"
             ],
             [
              0.4444444444444444,
              "#bd3786"
             ],
             [
              0.5555555555555556,
              "#d8576b"
             ],
             [
              0.6666666666666666,
              "#ed7953"
             ],
             [
              0.7777777777777778,
              "#fb9f3a"
             ],
             [
              0.8888888888888888,
              "#fdca26"
             ],
             [
              1,
              "#f0f921"
             ]
            ],
            "type": "heatmap"
           }
          ],
          "heatmapgl": [
           {
            "colorbar": {
             "outlinewidth": 0,
             "ticks": ""
            },
            "colorscale": [
             [
              0,
              "#0d0887"
             ],
             [
              0.1111111111111111,
              "#46039f"
             ],
             [
              0.2222222222222222,
              "#7201a8"
             ],
             [
              0.3333333333333333,
              "#9c179e"
             ],
             [
              0.4444444444444444,
              "#bd3786"
             ],
             [
              0.5555555555555556,
              "#d8576b"
             ],
             [
              0.6666666666666666,
              "#ed7953"
             ],
             [
              0.7777777777777778,
              "#fb9f3a"
             ],
             [
              0.8888888888888888,
              "#fdca26"
             ],
             [
              1,
              "#f0f921"
             ]
            ],
            "type": "heatmapgl"
           }
          ],
          "histogram": [
           {
            "marker": {
             "pattern": {
              "fillmode": "overlay",
              "size": 10,
              "solidity": 0.2
             }
            },
            "type": "histogram"
           }
          ],
          "histogram2d": [
           {
            "colorbar": {
             "outlinewidth": 0,
             "ticks": ""
            },
            "colorscale": [
             [
              0,
              "#0d0887"
             ],
             [
              0.1111111111111111,
              "#46039f"
             ],
             [
              0.2222222222222222,
              "#7201a8"
             ],
             [
              0.3333333333333333,
              "#9c179e"
             ],
             [
              0.4444444444444444,
              "#bd3786"
             ],
             [
              0.5555555555555556,
              "#d8576b"
             ],
             [
              0.6666666666666666,
              "#ed7953"
             ],
             [
              0.7777777777777778,
              "#fb9f3a"
             ],
             [
              0.8888888888888888,
              "#fdca26"
             ],
             [
              1,
              "#f0f921"
             ]
            ],
            "type": "histogram2d"
           }
          ],
          "histogram2dcontour": [
           {
            "colorbar": {
             "outlinewidth": 0,
             "ticks": ""
            },
            "colorscale": [
             [
              0,
              "#0d0887"
             ],
             [
              0.1111111111111111,
              "#46039f"
             ],
             [
              0.2222222222222222,
              "#7201a8"
             ],
             [
              0.3333333333333333,
              "#9c179e"
             ],
             [
              0.4444444444444444,
              "#bd3786"
             ],
             [
              0.5555555555555556,
              "#d8576b"
             ],
             [
              0.6666666666666666,
              "#ed7953"
             ],
             [
              0.7777777777777778,
              "#fb9f3a"
             ],
             [
              0.8888888888888888,
              "#fdca26"
             ],
             [
              1,
              "#f0f921"
             ]
            ],
            "type": "histogram2dcontour"
           }
          ],
          "mesh3d": [
           {
            "colorbar": {
             "outlinewidth": 0,
             "ticks": ""
            },
            "type": "mesh3d"
           }
          ],
          "parcoords": [
           {
            "line": {
             "colorbar": {
              "outlinewidth": 0,
              "ticks": ""
             }
            },
            "type": "parcoords"
           }
          ],
          "pie": [
           {
            "automargin": true,
            "type": "pie"
           }
          ],
          "scatter": [
           {
            "fillpattern": {
             "fillmode": "overlay",
             "size": 10,
             "solidity": 0.2
            },
            "type": "scatter"
           }
          ],
          "scatter3d": [
           {
            "line": {
             "colorbar": {
              "outlinewidth": 0,
              "ticks": ""
             }
            },
            "marker": {
             "colorbar": {
              "outlinewidth": 0,
              "ticks": ""
             }
            },
            "type": "scatter3d"
           }
          ],
          "scattercarpet": [
           {
            "marker": {
             "colorbar": {
              "outlinewidth": 0,
              "ticks": ""
             }
            },
            "type": "scattercarpet"
           }
          ],
          "scattergeo": [
           {
            "marker": {
             "colorbar": {
              "outlinewidth": 0,
              "ticks": ""
             }
            },
            "type": "scattergeo"
           }
          ],
          "scattergl": [
           {
            "marker": {
             "colorbar": {
              "outlinewidth": 0,
              "ticks": ""
             }
            },
            "type": "scattergl"
           }
          ],
          "scattermapbox": [
           {
            "marker": {
             "colorbar": {
              "outlinewidth": 0,
              "ticks": ""
             }
            },
            "type": "scattermapbox"
           }
          ],
          "scatterpolar": [
           {
            "marker": {
             "colorbar": {
              "outlinewidth": 0,
              "ticks": ""
             }
            },
            "type": "scatterpolar"
           }
          ],
          "scatterpolargl": [
           {
            "marker": {
             "colorbar": {
              "outlinewidth": 0,
              "ticks": ""
             }
            },
            "type": "scatterpolargl"
           }
          ],
          "scatterternary": [
           {
            "marker": {
             "colorbar": {
              "outlinewidth": 0,
              "ticks": ""
             }
            },
            "type": "scatterternary"
           }
          ],
          "surface": [
           {
            "colorbar": {
             "outlinewidth": 0,
             "ticks": ""
            },
            "colorscale": [
             [
              0,
              "#0d0887"
             ],
             [
              0.1111111111111111,
              "#46039f"
             ],
             [
              0.2222222222222222,
              "#7201a8"
             ],
             [
              0.3333333333333333,
              "#9c179e"
             ],
             [
              0.4444444444444444,
              "#bd3786"
             ],
             [
              0.5555555555555556,
              "#d8576b"
             ],
             [
              0.6666666666666666,
              "#ed7953"
             ],
             [
              0.7777777777777778,
              "#fb9f3a"
             ],
             [
              0.8888888888888888,
              "#fdca26"
             ],
             [
              1,
              "#f0f921"
             ]
            ],
            "type": "surface"
           }
          ],
          "table": [
           {
            "cells": {
             "fill": {
              "color": "#EBF0F8"
             },
             "line": {
              "color": "white"
             }
            },
            "header": {
             "fill": {
              "color": "#C8D4E3"
             },
             "line": {
              "color": "white"
             }
            },
            "type": "table"
           }
          ]
         },
         "layout": {
          "annotationdefaults": {
           "arrowcolor": "#2a3f5f",
           "arrowhead": 0,
           "arrowwidth": 1
          },
          "autotypenumbers": "strict",
          "coloraxis": {
           "colorbar": {
            "outlinewidth": 0,
            "ticks": ""
           }
          },
          "colorscale": {
           "diverging": [
            [
             0,
             "#8e0152"
            ],
            [
             0.1,
             "#c51b7d"
            ],
            [
             0.2,
             "#de77ae"
            ],
            [
             0.3,
             "#f1b6da"
            ],
            [
             0.4,
             "#fde0ef"
            ],
            [
             0.5,
             "#f7f7f7"
            ],
            [
             0.6,
             "#e6f5d0"
            ],
            [
             0.7,
             "#b8e186"
            ],
            [
             0.8,
             "#7fbc41"
            ],
            [
             0.9,
             "#4d9221"
            ],
            [
             1,
             "#276419"
            ]
           ],
           "sequential": [
            [
             0,
             "#0d0887"
            ],
            [
             0.1111111111111111,
             "#46039f"
            ],
            [
             0.2222222222222222,
             "#7201a8"
            ],
            [
             0.3333333333333333,
             "#9c179e"
            ],
            [
             0.4444444444444444,
             "#bd3786"
            ],
            [
             0.5555555555555556,
             "#d8576b"
            ],
            [
             0.6666666666666666,
             "#ed7953"
            ],
            [
             0.7777777777777778,
             "#fb9f3a"
            ],
            [
             0.8888888888888888,
             "#fdca26"
            ],
            [
             1,
             "#f0f921"
            ]
           ],
           "sequentialminus": [
            [
             0,
             "#0d0887"
            ],
            [
             0.1111111111111111,
             "#46039f"
            ],
            [
             0.2222222222222222,
             "#7201a8"
            ],
            [
             0.3333333333333333,
             "#9c179e"
            ],
            [
             0.4444444444444444,
             "#bd3786"
            ],
            [
             0.5555555555555556,
             "#d8576b"
            ],
            [
             0.6666666666666666,
             "#ed7953"
            ],
            [
             0.7777777777777778,
             "#fb9f3a"
            ],
            [
             0.8888888888888888,
             "#fdca26"
            ],
            [
             1,
             "#f0f921"
            ]
           ]
          },
          "colorway": [
           "#636efa",
           "#EF553B",
           "#00cc96",
           "#ab63fa",
           "#FFA15A",
           "#19d3f3",
           "#FF6692",
           "#B6E880",
           "#FF97FF",
           "#FECB52"
          ],
          "font": {
           "color": "#2a3f5f"
          },
          "geo": {
           "bgcolor": "white",
           "lakecolor": "white",
           "landcolor": "#E5ECF6",
           "showlakes": true,
           "showland": true,
           "subunitcolor": "white"
          },
          "hoverlabel": {
           "align": "left"
          },
          "hovermode": "closest",
          "mapbox": {
           "style": "light"
          },
          "paper_bgcolor": "white",
          "plot_bgcolor": "#E5ECF6",
          "polar": {
           "angularaxis": {
            "gridcolor": "white",
            "linecolor": "white",
            "ticks": ""
           },
           "bgcolor": "#E5ECF6",
           "radialaxis": {
            "gridcolor": "white",
            "linecolor": "white",
            "ticks": ""
           }
          },
          "scene": {
           "xaxis": {
            "backgroundcolor": "#E5ECF6",
            "gridcolor": "white",
            "gridwidth": 2,
            "linecolor": "white",
            "showbackground": true,
            "ticks": "",
            "zerolinecolor": "white"
           },
           "yaxis": {
            "backgroundcolor": "#E5ECF6",
            "gridcolor": "white",
            "gridwidth": 2,
            "linecolor": "white",
            "showbackground": true,
            "ticks": "",
            "zerolinecolor": "white"
           },
           "zaxis": {
            "backgroundcolor": "#E5ECF6",
            "gridcolor": "white",
            "gridwidth": 2,
            "linecolor": "white",
            "showbackground": true,
            "ticks": "",
            "zerolinecolor": "white"
           }
          },
          "shapedefaults": {
           "line": {
            "color": "#2a3f5f"
           }
          },
          "ternary": {
           "aaxis": {
            "gridcolor": "white",
            "linecolor": "white",
            "ticks": ""
           },
           "baxis": {
            "gridcolor": "white",
            "linecolor": "white",
            "ticks": ""
           },
           "bgcolor": "#E5ECF6",
           "caxis": {
            "gridcolor": "white",
            "linecolor": "white",
            "ticks": ""
           }
          },
          "title": {
           "x": 0.05
          },
          "xaxis": {
           "automargin": true,
           "gridcolor": "white",
           "linecolor": "white",
           "ticks": "",
           "title": {
            "standoff": 15
           },
           "zerolinecolor": "white",
           "zerolinewidth": 2
          },
          "yaxis": {
           "automargin": true,
           "gridcolor": "white",
           "linecolor": "white",
           "ticks": "",
           "title": {
            "standoff": 15
           },
           "zerolinecolor": "white",
           "zerolinewidth": 2
          }
         }
        },
        "title": {
         "font": {
          "color": "black",
          "family": "Kaiti",
          "size": 17
         },
         "text": ""
        },
        "width": 950,
        "xaxis": {
         "anchor": "y",
         "automargin": true,
         "autorange": true,
         "domain": [
          0,
          0.94
         ],
         "linecolor": "black",
         "linewidth": 1,
         "range": [
          -0.6724846061883768,
          11.672484606188377
         ],
         "showgrid": true,
         "showline": true,
         "showticklabels": true,
         "tickangle": -30,
         "tickcolor": "black",
         "tickfont": {
          "color": "black",
          "family": "Kaiti",
          "size": 15
         },
         "ticks": "inside",
         "ticktext": [
          "201501",
          "201502",
          "201503",
          "201504",
          "201505",
          "201506",
          "201507",
          "201508",
          "201509",
          "201510",
          "201511",
          "201512"
         ],
         "tickvals": [
          0,
          1,
          2,
          3,
          4,
          5,
          6,
          7,
          8,
          9,
          10,
          11
         ],
         "tickwidth": 1,
         "title": {
          "font": {
           "color": "black",
           "family": "Kaiti",
           "size": 15
          }
         },
         "type": "category",
         "zeroline": false
        },
        "yaxis": {
         "anchor": "x",
         "domain": [
          0,
          1
         ],
         "linecolor": "black",
         "linewidth": 1,
         "range": [
          0,
          500
         ],
         "showgrid": true,
         "tickcolor": "black",
         "ticks": "inside",
         "tickwidth": 1,
         "title": {
          "text": "数据轴"
         },
         "type": "linear",
         "zeroline": false,
         "zerolinecolor": "black",
         "zerolinewidth": 1
        },
        "yaxis2": {
         "anchor": "x",
         "linecolor": "black",
         "linewidth": 1,
         "overlaying": "y",
         "range": [
          0,
          0.1
         ],
         "showgrid": false,
         "side": "right",
         "tickcolor": "black",
         "ticks": "inside",
         "tickwidth": 1,
         "title": {
          "font": {
           "color": "black",
           "family": "Kaiti",
           "size": 15
          },
          "text": "数据轴2"
         },
         "type": "linear",
         "zeroline": false,
         "zerolinecolor": "black",
         "zerolinewidth": 1
        }
       }
      },
      "image/png": "[encoded data removed]",
      "text/html": [
       "<div>                            <div id=\"0af7c6d3-fd2f-4d7b-aec1-7e53e3cef74e\" class=\"plotly-graph-div\" style=\"height:534px; width:950px;\"></div>            <script type=\"text/javascript\">                require([\"plotly\"], function(Plotly) {                    window.PLOTLYENV=window.PLOTLYENV || {};                                    if (document.getElementById(\"0af7c6d3-fd2f-4d7b-aec1-7e53e3cef74e\")) {                    Plotly.newPlot(                        \"0af7c6d3-fd2f-4d7b-aec1-7e53e3cef74e\",                        [{\"hoverinfo\":\"text+x+y\",\"legendgroup\":\"\\u6570\\u636e1\",\"line\":{\"color\":\"#fbc357\",\"dash\":\"solid\",\"shape\":\"spline\",\"width\":2},\"marker\":{\"color\":\"white\",\"line\":{\"color\":\"#fbc357\",\"width\":2},\"size\":5,\"symbol\":\"circle\"},\"mode\":\"lines+markers\",\"name\":\"\\u6570\\u636e1\",\"opacity\":0.9,\"showlegend\":true,\"text\":[\"2.6\",\"5.9\",\"9.0\",\"26.4\",\"28.7\",\"70.7\",\"175.6\",\"182.2\",\"48.7\",\"18.8\",\"6.0\",\"2.3\"],\"textfont\":{\"color\":\"#fbc357\",\"family\":\"Kaiti\",\"size\":15},\"textposition\":\"top center\",\"x\":[\"201501\",\"201502\",\"201503\",\"201504\",\"201505\",\"201506\",\"201507\",\"201508\",\"201509\",\"201510\",\"201511\",\"201512\"],\"y\":[2.6,5.9,9.0,26.4,28.7,70.7,175.6,182.2,48.7,18.8,6.0,2.3],\"type\":\"scatter\",\"xaxis\":\"x\",\"yaxis\":\"y\"},{\"hoverinfo\":\"text+x+y\",\"legendgroup\":\"\\u6570\\u636e2\",\"line\":{\"color\":\"#8fbf8f\",\"dash\":\"solid\",\"shape\":\"spline\",\"width\":2},\"marker\":{\"color\":\"white\",\"line\":{\"color\":\"#8fbf8f\",\"width\":2},\"size\":5,\"symbol\":\"circle\"},\"mode\":\"lines+markers\",\"name\":\"\\u6570\\u636e2\",\"opacity\":0.9,\"showlegend\":true,\"text\":[\"3.9\",\"5.9\",\"11.1\",\"18.7\",\"48.3\",\"69.2\",\"231.6\",\"46.6\",\"55.4\",\"18.4\",\"10.3\",\"0.7\"],\"textfont\":{\"color\":\"#8fbf8f\",\"family\":\"Kaiti\",\"size\":15},\"textposition\":\"top center\",\"x\":[\"201501\",\"201502\",\"201503\",\"201504\",\"201505\",\"201506\",\"201507\",\"201508\",\"201509\",\"201510\",\"201511\",\"201512\"],\"y\":[3.9,5.9,11.1,18.7,48.3,69.2,231.6,46.6,55.4,18.4,10.3,0.7],\"type\":\"scatter\",\"xaxis\":\"x\",\"yaxis\":\"y\"},{\"hoverinfo\":\"text+x+y\",\"legendgroup\":\"\\u6570\\u636e3\",\"line\":{\"color\":\"#659d84\",\"dash\":\"solid\",\"shape\":\"spline\",\"width\":2},\"marker\":{\"color\":\"white\",\"line\":{\"color\":\"#659d84\",\"width\":2},\"size\":5,\"symbol\":\"circle\"},\"mode\":\"lines+markers\",\"name\":\"\\u6570\\u636e3\",\"opacity\":0.9,\"showlegend\":true,\"text\":[\"0.01\",\"0.02\",\"0.01\",\"0.02\",\"0.01\",\"0.028\",\"0.035\",\"0.047\",\"0.078\",\"0.064\",\"0.042\",\"0.039\"],\"textfont\":{\"color\":\"#659d84\",\"family\":\"Kaiti\",\"size\":15},\"textposition\":\"top center\",\"x\":[\"201501\",\"201502\",\"201503\",\"201504\",\"201505\",\"201506\",\"201507\",\"201508\",\"201509\",\"201510\",\"201511\",\"201512\"],\"y\":[0.01,0.02,0.01,0.02,0.01,0.028,0.035,0.047,0.078,0.064,0.042,0.039],\"type\":\"scatter\",\"xaxis\":\"x\",\"yaxis\":\"y2\"}],                        {\"template\":{\"data\":{\"histogram2dcontour\":[{\"type\":\"histogram2dcontour\",\"colorbar\":{\"outlinewidth\":0,\"ticks\":\"\"},\"colorscale\":[[0.0,\"#0d0887\"],[0.1111111111111111,\"#46039f\"],[0.2222222222222222,\"#7201a8\"],[0.3333333333333333,\"#9c179e\"],[0.4444444444444444,\"#bd3786\"],[0.5555555555555556,\"#d8576b\"],[0.6666666666666666,\"#ed7953\"],[0.7777777777777778,\"#fb9f3a\"],[0.8888888888888888,\"#fdca26\"],[1.0,\"#f0f921\"]]}],\"choropleth\":[{\"type\":\"choropleth\",\"colorbar\":{\"outlinewidth\":0,\"ticks\":\"\"}}],\"histogram2d\":[{\"type\":\"histogram2d\",\"colorbar\":{\"outlinewidth\":0,\"ticks\":\"\"},\"colorscale\":[[0.0,\"#0d0887\"],[0.1111111111111111,\"#46039f\"],[0.2222222222222222,\"#7201a8\"],[0.3333333333333333,\"#9c179e\"],[0.4444444444444444,\"#bd3786\"],[0.5555555555555556,\"#d8576b\"],[0.6666666666666666,\"#ed7953\"],[0.7777777777777778,\"#fb9f3a\"],[0.8888888888888888,\"#fdca26\"],[1.0,\"#f0f921\"]]}],\"heatmap\":[{\"type\":\"heatmap\",\"colorbar\":{\"outlinewidth\":0,\"ticks\":\"\"},\"colorscale\":[[0.0,\"#0d0887\"],[0.1111111111111111,\"#46039f\"],[0.2222222222222222,\"#7201a8\"],[0.3333333333333333,\"#9c179e\"],[0.4444444444444444,\"#bd3786\"],[0.5555555555555556,\"#d8576b\"],[0.6666666666666666,\"#ed7953\"],[0.7777777777777778,\"#fb9f3a\"],[0.8888888888888888,\"#fdca26\"],[1.0,\"#f0f921\"]]}],\"heatmapgl\":[{\"type\":\"heatmapgl\",\"colorbar\":{\"outlinewidth\":0,\"ticks\":\"\"},\"colorscale\":[[0.0,\"#0d0887\"],[0.1111111111111111,\"#46039f\"],[0.2222222222222222,\"#7201a8\"],[0.3333333333333333,\"#9c179e\"],[0.4444444444444444,\"#bd3786\"],[0.5555555555555556,\"#d8576b\"],[0.6666666666666666,\"#ed7953\"],[0.7777777777777778,\"#fb9f3a\"],[0.8888888888888888,\"#fdca26\"],[1.0,\"#f0f921\"]]}],\"contourcarpet\":[{\"type\":\"contourcarpet\",\"colorbar\":{\"outlinewidth\":0,\"ticks\":\"\"}}],\"contour\":[{\"type\":\"contour\",\"colorbar\":{\"outlinewidth\":0,\"ticks\":\"\"},\"colorscale\":[[0.0,\"#0d0887\"],[0.1111111111111111,\"#46039f\"],[0.2222222222222222,\"#7201a8\"],[0.3333333333333333,\"#9c179e\"],[0.4444444444444444,\"#bd3786\"],[0.5555555555555556,\"#d8576b\"],[0.6666666666666666,\"#ed7953\"],[0.7777777777777778,\"#fb9f3a\"],[0.8888888888888888,\"#fdca26\"],[1.0,\"#f0f921\"]]}],\"surface\":[{\"type\":\"surface\",\"colorbar\":{\"outlinewidth\":0,\"ticks\":\"\"},\"colorscale\":[[0.0,\"#0d0887\"],[0.1111111111111111,\"#46039f\"],[0.2222222222222222,\"#7201a8\"],[0.3333333333333333,\"#9c179e\"],[0.4444444444444444,\"#bd3786\"],[0.5555555555555556,\"#d8576b\"],[0.6666666666666666,\"#ed7953\"],[0.7777777777777778,\"#fb9f3a\"],[0.8888888888888888,\"#fdca26\"],[1.0,\"#f0f921\"]]}],\"mesh3d\":[{\"type\":\"mesh3d\",\"colorbar\":{\"outlinewidth\":0,\"ticks\":\"\"}}],\"scatter\":[{\"fillpattern\":{\"fillmode\":\"overlay\",\"size\":10,\"solidity\":0.2},\"type\":\"scatter\"}],\"parcoords\":[{\"type\":\"parcoords\",\"line\":{\"colorbar\":{\"outlinewidth\":0,\"ticks\":\"\"}}}],\"scatterpolargl\":[{\"type\":\"scatterpolargl\",\"marker\":{\"colorbar\":{\"outlinewidth\":0,\"ticks\":\"\"}}}],\"bar\":[{\"error_x\":{\"color\":\"#2a3f5f\"},\"error_y\":{\"color\":\"#2a3f5f\"},\"marker\":{\"line\":{\"color\":\"#E5ECF6\",\"width\":0.5},\"pattern\":{\"fillmode\":\"overlay\",\"size\":10,\"solidity\":0.2}},\"type\":\"bar\"}],\"scattergeo\":[{\"type\":\"scattergeo\",\"marker\":{\"colorbar\":{\"outlinewidth\":0,\"ticks\":\"\"}}}],\"scatterpolar\":[{\"type\":\"scatterpolar\",\"marker\":{\"colorbar\":{\"outlinewidth\":0,\"ticks\":\"\"}}}],\"histogram\":[{\"marker\":{\"pattern\":{\"fillmode\":\"overlay\",\"size\":10,\"solidity\":0.2}},\"type\":\"histogram\"}],\"scattergl\":[{\"type\":\"scattergl\",\"marker\":{\"colorbar\":{\"outlinewidth\":0,\"ticks\":\"\"}}}],\"scatter3d\":[{\"type\":\"scatter3d\",\"line\":{\"colorbar\":{\"outlinewidth\":0,\"ticks\":\"\"}},\"marker\":{\"colorbar\":{\"outlinewidth\":0,\"ticks\":\"\"}}}],\"scattermapbox\":[{\"type\":\"scattermapbox\",\"marker\":{\"colorbar\":{\"outlinewidth\":0,\"ticks\":\"\"}}}],\"scatterternary\":[{\"type\":\"scatterternary\",\"marker\":{\"colorbar\":{\"outlinewidth\":0,\"ticks\":\"\"}}}],\"scattercarpet\":[{\"type\":\"scattercarpet\",\"marker\":{\"colorbar\":{\"outlinewidth\":0,\"ticks\":\"\"}}}],\"carpet\":[{\"aaxis\":{\"endlinecolor\":\"#2a3f5f\",\"gridcolor\":\"white\",\"linecolor\":\"white\",\"minorgridcolor\":\"white\",\"startlinecolor\":\"#2a3f5f\"},\"baxis\":{\"endlinecolor\":\"#2a3f5f\",\"gridcolor\":\"white\",\"linecolor\":\"white\",\"minorgridcolor\":\"white\",\"startlinecolor\":\"#2a3f5f\"},\"type\":\"carpet\"}],\"table\":[{\"cells\":{\"fill\":{\"color\":\"#EBF0F8\"},\"line\":{\"color\":\"white\"}},\"header\":{\"fill\":{\"color\":\"#C8D4E3\"},\"line\":{\"color\":\"white\"}},\"type\":\"table\"}],\"barpolar\":[{\"marker\":{\"line\":{\"color\":\"#E5ECF6\",\"width\":0.5},\"pattern\":{\"fillmode\":\"overlay\",\"size\":10,\"solidity\":0.2}},\"type\":\"barpolar\"}],\"pie\":[{\"automargin\":true,\"type\":\"pie\"}]},\"layout\":{\"autotypenumbers\":\"strict\",\"colorway\":[\"#636efa\",\"#EF553B\",\"#00cc96\",\"#ab63fa\",\"#FFA15A\",\"#19d3f3\",\"#FF6692\",\"#B6E880\",\"#FF97FF\",\"#FECB52\"],\"font\":{\"color\":\"#2a3f5f\"},\"hovermode\":\"closest\",\"hoverlabel\":{\"align\":\"left\"},\"paper_bgcolor\":\"white\",\"plot_bgcolor\":\"#E5ECF6\",\"polar\":{\"bgcolor\":\"#E5ECF6\",\"angularaxis\":{\"gridcolor\":\"white\",\"linecolor\":\"white\",\"ticks\":\"\"},\"radialaxis\":{\"gridcolor\":\"white\",\"linecolor\":\"white\",\"ticks\":\"\"}},\"ternary\":{\"bgcolor\":\"#E5ECF6\",\"aaxis\":{\"gridcolor\":\"white\",\"linecolor\":\"white\",\"ticks\":\"\"},\"baxis\":{\"gridcolor\":\"white\",\"linecolor\":\"white\",\"ticks\":\"\"},\"caxis\":{\"gridcolor\":\"white\",\"linecolor\":\"white\",\"ticks\":\"\"}},\"coloraxis\":{\"colorbar\":{\"outlinewidth\":0,\"ticks\":\"\"}},\"colorscale\":{\"sequential\":[[0.0,\"#0d0887\"],[0.1111111111111111,\"#46039f\"],[0.2222222222222222,\"#7201a8\"],[0.3333333333333333,\"#9c179e\"],[0.4444444444444444,\"#bd3786\"],[0.5555555555555556,\"#d8576b\"],[0.6666666666666666,\"#ed7953\"],[0.7777777777777778,\"#fb9f3a\"],[0.8888888888888888,\"#fdca26\"],[1.0,\"#f0f921\"]],\"sequentialminus\":[[0.0,\"#0d0887\"],[0.1111111111111111,\"#46039f\"],[0.2222222222222222,\"#7201a8\"],[0.3333333333333333,\"#9c179e\"],[0.4444444444444444,\"#bd3786\"],[0.5555555555555556,\"#d8576b\"],[0.6666666666666666,\"#ed7953\"],[0.7777777777777778,\"#fb9f3a\"],[0.8888888888888888,\"#fdca26\"],[1.0,\"#f0f921\"]],\"diverging\":[[0,\"#8e0152\"],[0.1,\"#c51b7d\"],[0.2,\"#de77ae\"],[0.3,\"#f1b6da\"],[0.4,\"#fde0ef\"],[0.5,\"#f7f7f7\"],[0.6,\"#e6f5d0\"],[0.7,\"#b8e186\"],[0.8,\"#7fbc41\"],[0.9,\"#4d9221\"],[1,\"#276419\"]]},\"xaxis\":{\"gridcolor\":\"white\",\"linecolor\":\"white\",\"ticks\":\"\",\"title\":{\"standoff\":15},\"zerolinecolor\":\"white\",\"automargin\":true,\"zerolinewidth\":2},\"yaxis\":{\"gridcolor\":\"white\",\"linecolor\":\"white\",\"ticks\":\"\",\"title\":{\"standoff\":15},\"zerolinecolor\":\"white\",\"automargin\":true,\"zerolinewidth\":2},\"scene\":{\"xaxis\":{\"backgroundcolor\":\"#E5ECF6\",\"gridcolor\":\"white\",\"linecolor\":\"white\",\"showbackground\":true,\"ticks\":\"\",\"zerolinecolor\":\"white\",\"gridwidth\":2},\"yaxis\":{\"backgroundcolor\":\"#E5ECF6\",\"gridcolor\":\"white\",\"linecolor\":\"white\",\"showbackground\":true,\"ticks\":\"\",\"zerolinecolor\":\"white\",\"gridwidth\":2},\"zaxis\":{\"backgroundcolor\":\"#E5ECF6\",\"gridcolor\":\"white\",\"linecolor\":\"white\",\"showbackground\":true,\"ticks\":\"\",\"zerolinecolor\":\"white\",\"gridwidth\":2}},\"shapedefaults\":{\"line\":{\"color\":\"#2a3f5f\"}},\"annotationdefaults\":{\"arrowcolor\":\"#2a3f5f\",\"arrowhead\":0,\"arrowwidth\":1},\"geo\":{\"bgcolor\":\"white\",\"landcolor\":\"#E5ECF6\",\"subunitcolor\":\"white\",\"showland\":true,\"showlakes\":true,\"lakecolor\":\"white\"},\"title\":{\"x\":0.05},\"mapbox\":{\"style\":\"light\"}}},\"xaxis\":{\"anchor\":\"y\",\"domain\":[0.0,0.94],\"title\":{\"font\":{\"size\":15,\"family\":\"Kaiti\",\"color\":\"black\"}},\"tickfont\":{\"color\":\"black\",\"family\":\"Kaiti\",\"size\":15},\"showline\":true,\"showticklabels\":true,\"type\":\"category\",\"automargin\":true,\"tickangle\":-30,\"tickvals\":[0,1,2,3,4,5,6,7,8,9,10,11],\"ticktext\":[\"201501\",\"201502\",\"201503\",\"201504\",\"201505\",\"201506\",\"201507\",\"201508\",\"201509\",\"201510\",\"201511\",\"201512\"],\"showgrid\":true,\"zeroline\":false,\"linecolor\":\"black\",\"linewidth\":1,\"ticks\":\"inside\",\"tickcolor\":\"black\",\"tickwidth\":1},\"yaxis\":{\"anchor\":\"x\",\"domain\":[0.0,1.0],\"title\":{\"text\":\"\\u6570\\u636e\\u8f74\"},\"range\":[0,500],\"showgrid\":true,\"zeroline\":false,\"zerolinewidth\":1,\"zerolinecolor\":\"black\",\"linecolor\":\"black\",\"linewidth\":1,\"ticks\":\"inside\",\"tickcolor\":\"black\",\"tickwidth\":1},\"yaxis2\":{\"anchor\":\"x\",\"overlaying\":\"y\",\"side\":\"right\",\"title\":{\"text\":\"\\u6570\\u636e\\u8f742\",\"font\":{\"size\":15,\"family\":\"Kaiti\",\"color\":\"black\"}},\"range\":[0,0.1],\"showgrid\":false,\"zeroline\":false,\"zerolinewidth\":1,\"zerolinecolor\":\"black\",\"linecolor\":\"black\",\"linewidth\":1,\"ticks\":\"inside\",\"tickcolor\":\"black\",\"tickwidth\":1},\"title\":{\"text\":\"\",\"font\":{\"size\":17,\"family\":\"Kaiti\",\"color\":\"black\"}},\"legend\":{\"font\":{\"size\":13,\"family\":\"Kaiti\",\"color\":\"black\"},\"title\":{},\"tracegroupgap\":0,\"itemclick\":\"toggle\",\"itemdoubleclick\":\"toggleothers\",\"x\":1.05},\"width\":950,\"height\":534},                        {\"displaylogo\": false, \"responsive\": true}                    ).then(function(){\n",
       "                            \n",
       "var gd = document.getElementById('0af7c6d3-fd2f-4d7b-aec1-7e53e3cef74e');\n",
       "var x = new MutationObserver(function (mutations, observer) {{\n",
       "        var display = window.getComputedStyle(gd).display;\n",
       "        if (!display || display === 'none') {{\n",
       "            console.log([gd, 'removed!']);\n",
       "            Plotly.purge(gd);\n",
       "            observer.disconnect();\n",
       "        }}\n",
       "}});\n",
       "\n",
       "// Listen for the removal of the full notebook cells\n",
       "var notebookContainer = gd.closest('#notebook-container');\n",
       "if (notebookContainer) {{\n",
       "    x.observe(notebookContainer, {childList: true});\n",
       "}}\n",
       "\n",
       "// Listen for the clearing of the current output cell\n",
       "var outputEl = gd.closest('.output');\n",
       "if (outputEl) {{\n",
       "    x.observe(outputEl, {childList: true});\n",
       "}}\n",
       "\n",
       "                        })                };                });            </script>        </div>"
      ]
     },
     "metadata": {},
     "output_type": "display_data"
    }
   ],
   "source": [
    "s = PlotModel()\n",
    "fig = Fig()\n",
    "fig.add_line(df,x='时间',y='数据1',yaxis='left',y_name='数据轴',position=1,y_range=(0,500),line_model=ls1)\n",
    "fig.add_line(df,x='时间',y='数据2',yaxis='left',y_name='数据轴',position=1,y_range=(0,500),line_model=ls1)\n",
    "fig.add_line(df,x='时间',y='数据3',yaxis='right',y_name='数据轴2',position=1,y_range=(0,0.1),line_model=ls1)\n",
    "fig.add_line(df,x='时间',y='数据3',yaxis='right',y_name='数据轴2',position=1,y_range=(0,0.1),line_model=ls1)\n",
    "fig.show()"
   ]
  },
  {
   "cell_type": "code",
   "execution_count": 15,
   "id": "6f129989-b891-4851-bd23-fbe48d28faf6",
   "metadata": {},
   "outputs": [
    {
     "data": {
      "application/vnd.plotly.v1+json": {
       "config": {
        "displaylogo": false,
        "plotlyServerURL": "https://plot.ly"
       },
       "data": [
        {
         "hoverinfo": "text+x+y",
         "legendgroup": "数据1",
         "line": {
          "color": "#51689b",
          "dash": "solid",
          "shape": "spline",
          "width": 2
         },
         "marker": {
          "color": "white",
          "line": {
           "color": "#51689b",
           "width": 2
          },
          "size": 5,
          "symbol": "circle"
         },
         "mode": "lines+markers",
         "name": "数据1",
         "opacity": 0.9,
         "showlegend": true,
         "text": [
          "2.6",
          "5.9",
          "9.0",
          "26.4",
          "28.7",
          "70.7",
          "175.6",
          "182.2",
          "48.7",
          "18.8",
          "6.0",
          "2.3"
         ],
         "textfont": {
          "color": "#51689b",
          "family": "Kaiti",
          "size": 15
         },
         "textposition": "top center",
         "type": "scatter",
         "visible": true,
         "x": [
          "201501",
          "201502",
          "201503",
          "201504",
          "201505",
          "201506",
          "201507",
          "201508",
          "201509",
          "201510",
          "201511",
          "201512"
         ],
         "xaxis": "x",
         "y": [
          2.6,
          5.9,
          9,
          26.4,
          28.7,
          70.7,
          175.6,
          182.2,
          48.7,
          18.8,
          6,
          2.3
         ],
         "yaxis": "y"
        },
        {
         "hoverinfo": "text+x+y",
         "legendgroup": "数据2",
         "line": {
          "color": "#ce5c5c",
          "dash": "solid",
          "shape": "spline",
          "width": 2
         },
         "marker": {
          "color": "white",
          "line": {
           "color": "#ce5c5c",
           "width": 2
          },
          "size": 5,
          "symbol": "circle"
         },
         "mode": "lines+markers",
         "name": "数据2",
         "opacity": 0.9,
         "showlegend": true,
         "text": [
          "3.9",
          "5.9",
          "11.1",
          "18.7",
          "48.3",
          "69.2",
          "231.6",
          "46.6",
          "55.4",
          "18.4",
          "10.3",
          "0.7"
         ],
         "textfont": {
          "color": "#ce5c5c",
          "family": "Kaiti",
          "size": 15
         },
         "textposition": "top center",
         "type": "scatter",
         "visible": true,
         "x": [
          "201501",
          "201502",
          "201503",
          "201504",
          "201505",
          "201506",
          "201507",
          "201508",
          "201509",
          "201510",
          "201511",
          "201512"
         ],
         "xaxis": "x",
         "y": [
          3.9,
          5.9,
          11.1,
          18.7,
          48.3,
          69.2,
          231.6,
          46.6,
          55.4,
          18.4,
          10.3,
          0.7
         ],
         "yaxis": "y"
        },
        {
         "hoverinfo": "text+x+y",
         "legendgroup": "数据3",
         "line": {
          "color": "#fbc357",
          "dash": "solid",
          "shape": "spline",
          "width": 2
         },
         "marker": {
          "color": "white",
          "line": {
           "color": "#fbc357",
           "width": 2
          },
          "size": 5,
          "symbol": "circle"
         },
         "mode": "lines+markers",
         "name": "数据3",
         "opacity": 0.9,
         "showlegend": true,
         "text": [
          "0.01",
          "0.02",
          "0.01",
          "0.02",
          "0.01",
          "0.028",
          "0.035",
          "0.047",
          "0.078",
          "0.064",
          "0.042",
          "0.039"
         ],
         "textfont": {
          "color": "#fbc357",
          "family": "Kaiti",
          "size": 15
         },
         "textposition": "top center",
         "type": "scatter",
         "visible": true,
         "x": [
          "201501",
          "201502",
          "201503",
          "201504",
          "201505",
          "201506",
          "201507",
          "201508",
          "201509",
          "201510",
          "201511",
          "201512"
         ],
         "xaxis": "x",
         "y": [
          0.01,
          0.02,
          0.01,
          0.02,
          0.01,
          0.028,
          0.035,
          0.047,
          0.078,
          0.064,
          0.042,
          0.039
         ],
         "yaxis": "y2"
        },
        {
         "hoverinfo": "text+x+y",
         "legendgroup": "数据1",
         "line": {
          "color": "#8fbf8f",
          "dash": "solid",
          "shape": "spline",
          "width": 2
         },
         "marker": {
          "color": "white",
          "line": {
           "color": "#8fbf8f",
           "width": 2
          },
          "size": 5,
          "symbol": "circle"
         },
         "mode": "lines+markers",
         "name": "数据1",
         "opacity": 0.9,
         "showlegend": false,
         "text": [
          "2.6",
          "5.9",
          "9.0",
          "26.4",
          "28.7",
          "70.7",
          "175.6",
          "182.2",
          "48.7",
          "18.8",
          "6.0",
          "2.3"
         ],
         "textfont": {
          "color": "#8fbf8f",
          "family": "Kaiti",
          "size": 15
         },
         "textposition": "top center",
         "type": "scatter",
         "visible": true,
         "x": [
          "201501",
          "201502",
          "201503",
          "201504",
          "201505",
          "201506",
          "201507",
          "201508",
          "201509",
          "201510",
          "201511",
          "201512"
         ],
         "xaxis": "x2",
         "y": [
          2.6,
          5.9,
          9,
          26.4,
          28.7,
          70.7,
          175.6,
          182.2,
          48.7,
          18.8,
          6,
          2.3
         ],
         "yaxis": "y3"
        },
        {
         "hoverinfo": "text+x+y",
         "legendgroup": "数据2",
         "line": {
          "color": "#ce5c5c",
          "dash": "solid",
          "shape": "spline",
          "width": 2
         },
         "marker": {
          "color": "white",
          "line": {
           "color": "#ce5c5c",
           "width": 2
          },
          "size": 5,
          "symbol": "circle"
         },
         "mode": "lines+markers",
         "name": "数据2",
         "opacity": 0.9,
         "showlegend": false,
         "text": [
          "3.9",
          "5.9",
          "11.1",
          "18.7",
          "48.3",
          "69.2",
          "231.6",
          "46.6",
          "55.4",
          "18.4",
          "10.3",
          "0.7"
         ],
         "textfont": {
          "color": "#ce5c5c",
          "family": "Kaiti",
          "size": 15
         },
         "textposition": "top center",
         "type": "scatter",
         "visible": true,
         "x": [
          "201501",
          "201502",
          "201503",
          "201504",
          "201505",
          "201506",
          "201507",
          "201508",
          "201509",
          "201510",
          "201511",
          "201512"
         ],
         "xaxis": "x2",
         "y": [
          3.9,
          5.9,
          11.1,
          18.7,
          48.3,
          69.2,
          231.6,
          46.6,
          55.4,
          18.4,
          10.3,
          0.7
         ],
         "yaxis": "y3"
        },
        {
         "hoverinfo": "text+x+y",
         "legendgroup": "数据3",
         "line": {
          "color": "#fbc357",
          "dash": "solid",
          "shape": "spline",
          "width": 2
         },
         "marker": {
          "color": "white",
          "line": {
           "color": "#fbc357",
           "width": 2
          },
          "size": 5,
          "symbol": "circle"
         },
         "mode": "lines+markers",
         "name": "数据3",
         "opacity": 0.9,
         "showlegend": false,
         "text": [
          "0.01",
          "0.02",
          "0.01",
          "0.02",
          "0.01",
          "0.028",
          "0.035",
          "0.047",
          "0.078",
          "0.064",
          "0.042",
          "0.039"
         ],
         "textfont": {
          "color": "#fbc357",
          "family": "Kaiti",
          "size": 15
         },
         "textposition": "top center",
         "type": "scatter",
         "visible": true,
         "x": [
          "201501",
          "201502",
          "201503",
          "201504",
          "201505",
          "201506",
          "201507",
          "201508",
          "201509",
          "201510",
          "201511",
          "201512"
         ],
         "xaxis": "x2",
         "y": [
          0.01,
          0.02,
          0.01,
          0.02,
          0.01,
          0.028,
          0.035,
          0.047,
          0.078,
          0.064,
          0.042,
          0.039
         ],
         "yaxis": "y4"
        },
        {
         "hoverinfo": "text+x+y",
         "legendgroup": "数据1",
         "line": {
          "color": "#659d84",
          "dash": "solid",
          "shape": "spline",
          "width": 2
         },
         "marker": {
          "color": "white",
          "line": {
           "color": "#659d84",
           "width": 2
          },
          "size": 5,
          "symbol": "circle"
         },
         "mode": "lines+markers",
         "name": "数据1",
         "opacity": 0.9,
         "showlegend": false,
         "text": [
          "2.6",
          "5.9",
          "9.0",
          "26.4",
          "28.7",
          "70.7",
          "175.6",
          "182.2",
          "48.7",
          "18.8",
          "6.0",
          "2.3"
         ],
         "textfont": {
          "color": "#659d84",
          "family": "Kaiti",
          "size": 15
         },
         "textposition": "top center",
         "type": "scatter",
         "visible": true,
         "x": [
          "201501",
          "201502",
          "201503",
          "201504",
          "201505",
          "201506",
          "201507",
          "201508",
          "201509",
          "201510",
          "201511",
          "201512"
         ],
         "xaxis": "x3",
         "y": [
          2.6,
          5.9,
          9,
          26.4,
          28.7,
          70.7,
          175.6,
          182.2,
          48.7,
          18.8,
          6,
          2.3
         ],
         "yaxis": "y5"
        },
        {
         "hoverinfo": "text+x+y",
         "legendgroup": "数据2",
         "line": {
          "color": "#ce5c5c",
          "dash": "solid",
          "shape": "spline",
          "width": 2
         },
         "marker": {
          "color": "white",
          "line": {
           "color": "#ce5c5c",
           "width": 2
          },
          "size": 5,
          "symbol": "circle"
         },
         "mode": "lines+markers",
         "name": "数据2",
         "opacity": 0.9,
         "showlegend": false,
         "text": [
          "3.9",
          "5.9",
          "11.1",
          "18.7",
          "48.3",
          "69.2",
          "231.6",
          "46.6",
          "55.4",
          "18.4",
          "10.3",
          "0.7"
         ],
         "textfont": {
          "color": "#ce5c5c",
          "family": "Kaiti",
          "size": 15
         },
         "textposition": "top center",
         "type": "scatter",
         "visible": true,
         "x": [
          "201501",
          "201502",
          "201503",
          "201504",
          "201505",
          "201506",
          "201507",
          "201508",
          "201509",
          "201510",
          "201511",
          "201512"
         ],
         "xaxis": "x3",
         "y": [
          3.9,
          5.9,
          11.1,
          18.7,
          48.3,
          69.2,
          231.6,
          46.6,
          55.4,
          18.4,
          10.3,
          0.7
         ],
         "yaxis": "y5"
        },
        {
         "hoverinfo": "text+x+y",
         "legendgroup": "数据3",
         "line": {
          "color": "#fbc357",
          "dash": "solid",
          "shape": "spline",
          "width": 2
         },
         "marker": {
          "color": "white",
          "line": {
           "color": "#fbc357",
           "width": 2
          },
          "size": 5,
          "symbol": "circle"
         },
         "mode": "lines+markers",
         "name": "数据3",
         "opacity": 0.9,
         "showlegend": false,
         "text": [
          "0.01",
          "0.02",
          "0.01",
          "0.02",
          "0.01",
          "0.028",
          "0.035",
          "0.047",
          "0.078",
          "0.064",
          "0.042",
          "0.039"
         ],
         "textfont": {
          "color": "#fbc357",
          "family": "Kaiti",
          "size": 15
         },
         "textposition": "top center",
         "type": "scatter",
         "visible": true,
         "x": [
          "201501",
          "201502",
          "201503",
          "201504",
          "201505",
          "201506",
          "201507",
          "201508",
          "201509",
          "201510",
          "201511",
          "201512"
         ],
         "xaxis": "x3",
         "y": [
          0.01,
          0.02,
          0.01,
          0.02,
          0.01,
          0.028,
          0.035,
          0.047,
          0.078,
          0.064,
          0.042,
          0.039
         ],
         "yaxis": "y6"
        },
        {
         "hoverinfo": "text+x+y",
         "legendgroup": "数据1",
         "line": {
          "color": "#fb8e6a",
          "dash": "solid",
          "shape": "spline",
          "width": 2
         },
         "marker": {
          "color": "white",
          "line": {
           "color": "#fb8e6a",
           "width": 2
          },
          "size": 5,
          "symbol": "circle"
         },
         "mode": "lines+markers",
         "name": "数据1",
         "opacity": 0.9,
         "showlegend": false,
         "text": [
          "2.6",
          "5.9",
          "9.0",
          "26.4",
          "28.7",
          "70.7",
          "175.6",
          "182.2",
          "48.7",
          "18.8",
          "6.0",
          "2.3"
         ],
         "textfont": {
          "color": "#fb8e6a",
          "family": "Kaiti",
          "size": 15
         },
         "textposition": "top center",
         "type": "scatter",
         "visible": true,
         "x": [
          "201501",
          "201502",
          "201503",
          "201504",
          "201505",
          "201506",
          "201507",
          "201508",
          "201509",
          "201510",
          "201511",
          "201512"
         ],
         "xaxis": "x4",
         "y": [
          2.6,
          5.9,
          9,
          26.4,
          28.7,
          70.7,
          175.6,
          182.2,
          48.7,
          18.8,
          6,
          2.3
         ],
         "yaxis": "y7"
        },
        {
         "hoverinfo": "text+x+y",
         "legendgroup": "数据2",
         "line": {
          "color": "#ce5c5c",
          "dash": "solid",
          "shape": "spline",
          "width": 2
         },
         "marker": {
          "color": "white",
          "line": {
           "color": "#ce5c5c",
           "width": 2
          },
          "size": 5,
          "symbol": "circle"
         },
         "mode": "lines+markers",
         "name": "数据2",
         "opacity": 0.9,
         "showlegend": false,
         "text": [
          "3.9",
          "5.9",
          "11.1",
          "18.7",
          "48.3",
          "69.2",
          "231.6",
          "46.6",
          "55.4",
          "18.4",
          "10.3",
          "0.7"
         ],
         "textfont": {
          "color": "#ce5c5c",
          "family": "Kaiti",
          "size": 15
         },
         "textposition": "top center",
         "type": "scatter",
         "visible": true,
         "x": [
          "201501",
          "201502",
          "201503",
          "201504",
          "201505",
          "201506",
          "201507",
          "201508",
          "201509",
          "201510",
          "201511",
          "201512"
         ],
         "xaxis": "x4",
         "y": [
          3.9,
          5.9,
          11.1,
          18.7,
          48.3,
          69.2,
          231.6,
          46.6,
          55.4,
          18.4,
          10.3,
          0.7
         ],
         "yaxis": "y7"
        },
        {
         "hoverinfo": "text+x+y",
         "legendgroup": "数据3",
         "line": {
          "color": "#fbc357",
          "dash": "solid",
          "shape": "spline",
          "width": 2
         },
         "marker": {
          "color": "white",
          "line": {
           "color": "#fbc357",
           "width": 2
          },
          "size": 5,
          "symbol": "circle"
         },
         "mode": "lines+markers",
         "name": "数据3",
         "opacity": 0.9,
         "showlegend": false,
         "text": [
          "0.01",
          "0.02",
          "0.01",
          "0.02",
          "0.01",
          "0.028",
          "0.035",
          "0.047",
          "0.078",
          "0.064",
          "0.042",
          "0.039"
         ],
         "textfont": {
          "color": "#fbc357",
          "family": "Kaiti",
          "size": 15
         },
         "textposition": "top center",
         "type": "scatter",
         "visible": true,
         "x": [
          "201501",
          "201502",
          "201503",
          "201504",
          "201505",
          "201506",
          "201507",
          "201508",
          "201509",
          "201510",
          "201511",
          "201512"
         ],
         "xaxis": "x4",
         "y": [
          0.01,
          0.02,
          0.01,
          0.02,
          0.01,
          0.028,
          0.035,
          0.047,
          0.078,
          0.064,
          0.042,
          0.039
         ],
         "yaxis": "y8"
        }
       ],
       "layout": {
        "height": 534,
        "legend": {
         "font": {
          "color": "black",
          "family": "Kaiti",
          "size": 13
         },
         "itemclick": "toggle",
         "itemdoubleclick": "toggleothers",
         "title": {},
         "tracegroupgap": 0,
         "x": 1.05,
         "y": 1
        },
        "template": {
         "data": {
          "bar": [
           {
            "error_x": {
             "color": "#2a3f5f"
            },
            "error_y": {
             "color": "#2a3f5f"
            },
            "marker": {
             "line": {
              "color": "#E5ECF6",
              "width": 0.5
             },
             "pattern": {
              "fillmode": "overlay",
              "size": 10,
              "solidity": 0.2
             }
            },
            "type": "bar"
           }
          ],
          "barpolar": [
           {
            "marker": {
             "line": {
              "color": "#E5ECF6",
              "width": 0.5
             },
             "pattern": {
              "fillmode": "overlay",
              "size": 10,
              "solidity": 0.2
             }
            },
            "type": "barpolar"
           }
          ],
          "carpet": [
           {
            "aaxis": {
             "endlinecolor": "#2a3f5f",
             "gridcolor": "white",
             "linecolor": "white",
             "minorgridcolor": "white",
             "startlinecolor": "#2a3f5f"
            },
            "baxis": {
             "endlinecolor": "#2a3f5f",
             "gridcolor": "white",
             "linecolor": "white",
             "minorgridcolor": "white",
             "startlinecolor": "#2a3f5f"
            },
            "type": "carpet"
           }
          ],
          "choropleth": [
           {
            "colorbar": {
             "outlinewidth": 0,
             "ticks": ""
            },
            "type": "choropleth"
           }
          ],
          "contour": [
           {
            "colorbar": {
             "outlinewidth": 0,
             "ticks": ""
            },
            "colorscale": [
             [
              0,
              "#0d0887"
             ],
             [
              0.1111111111111111,
              "#46039f"
             ],
             [
              0.2222222222222222,
              "#7201a8"
             ],
             [
              0.3333333333333333,
              "#9c179e"
             ],
             [
              0.4444444444444444,
              "#bd3786"
             ],
             [
              0.5555555555555556,
              "#d8576b"
             ],
             [
              0.6666666666666666,
              "#ed7953"
             ],
             [
              0.7777777777777778,
              "#fb9f3a"
             ],
             [
              0.8888888888888888,
              "#fdca26"
             ],
             [
              1,
              "#f0f921"
             ]
            ],
            "type": "contour"
           }
          ],
          "contourcarpet": [
           {
            "colorbar": {
             "outlinewidth": 0,
             "ticks": ""
            },
            "type": "contourcarpet"
           }
          ],
          "heatmap": [
           {
            "colorbar": {
             "outlinewidth": 0,
             "ticks": ""
            },
            "colorscale": [
             [
              0,
              "#0d0887"
             ],
             [
              0.1111111111111111,
              "#46039f"
             ],
             [
              0.2222222222222222,
              "#7201a8"
             ],
             [
              0.3333333333333333,
              "#9c179e"
             ],
             [
              0.4444444444444444,
              "#bd3786"
             ],
             [
              0.5555555555555556,
              "#d8576b"
             ],
             [
              0.6666666666666666,
              "#ed7953"
             ],
             [
              0.7777777777777778,
              "#fb9f3a"
             ],
             [
              0.8888888888888888,
              "#fdca26"
             ],
             [
              1,
              "#f0f921"
             ]
            ],
            "type": "heatmap"
           }
          ],
          "heatmapgl": [
           {
            "colorbar": {
             "outlinewidth": 0,
             "ticks": ""
            },
            "colorscale": [
             [
              0,
              "#0d0887"
             ],
             [
              0.1111111111111111,
              "#46039f"
             ],
             [
              0.2222222222222222,
              "#7201a8"
             ],
             [
              0.3333333333333333,
              "#9c179e"
             ],
             [
              0.4444444444444444,
              "#bd3786"
             ],
             [
              0.5555555555555556,
              "#d8576b"
             ],
             [
              0.6666666666666666,
              "#ed7953"
             ],
             [
              0.7777777777777778,
              "#fb9f3a"
             ],
             [
              0.8888888888888888,
              "#fdca26"
             ],
             [
              1,
              "#f0f921"
             ]
            ],
            "type": "heatmapgl"
           }
          ],
          "histogram": [
           {
            "marker": {
             "pattern": {
              "fillmode": "overlay",
              "size": 10,
              "solidity": 0.2
             }
            },
            "type": "histogram"
           }
          ],
          "histogram2d": [
           {
            "colorbar": {
             "outlinewidth": 0,
             "ticks": ""
            },
            "colorscale": [
             [
              0,
              "#0d0887"
             ],
             [
              0.1111111111111111,
              "#46039f"
             ],
             [
              0.2222222222222222,
              "#7201a8"
             ],
             [
              0.3333333333333333,
              "#9c179e"
             ],
             [
              0.4444444444444444,
              "#bd3786"
             ],
             [
              0.5555555555555556,
              "#d8576b"
             ],
             [
              0.6666666666666666,
              "#ed7953"
             ],
             [
              0.7777777777777778,
              "#fb9f3a"
             ],
             [
              0.8888888888888888,
              "#fdca26"
             ],
             [
              1,
              "#f0f921"
             ]
            ],
            "type": "histogram2d"
           }
          ],
          "histogram2dcontour": [
           {
            "colorbar": {
             "outlinewidth": 0,
             "ticks": ""
            },
            "colorscale": [
             [
              0,
              "#0d0887"
             ],
             [
              0.1111111111111111,
              "#46039f"
             ],
             [
              0.2222222222222222,
              "#7201a8"
             ],
             [
              0.3333333333333333,
              "#9c179e"
             ],
             [
              0.4444444444444444,
              "#bd3786"
             ],
             [
              0.5555555555555556,
              "#d8576b"
             ],
             [
              0.6666666666666666,
              "#ed7953"
             ],
             [
              0.7777777777777778,
              "#fb9f3a"
             ],
             [
              0.8888888888888888,
              "#fdca26"
             ],
             [
              1,
              "#f0f921"
             ]
            ],
            "type": "histogram2dcontour"
           }
          ],
          "mesh3d": [
           {
            "colorbar": {
             "outlinewidth": 0,
             "ticks": ""
            },
            "type": "mesh3d"
           }
          ],
          "parcoords": [
           {
            "line": {
             "colorbar": {
              "outlinewidth": 0,
              "ticks": ""
             }
            },
            "type": "parcoords"
           }
          ],
          "pie": [
           {
            "automargin": true,
            "type": "pie"
           }
          ],
          "scatter": [
           {
            "fillpattern": {
             "fillmode": "overlay",
             "size": 10,
             "solidity": 0.2
            },
            "type": "scatter"
           }
          ],
          "scatter3d": [
           {
            "line": {
             "colorbar": {
              "outlinewidth": 0,
              "ticks": ""
             }
            },
            "marker": {
             "colorbar": {
              "outlinewidth": 0,
              "ticks": ""
             }
            },
            "type": "scatter3d"
           }
          ],
          "scattercarpet": [
           {
            "marker": {
             "colorbar": {
              "outlinewidth": 0,
              "ticks": ""
             }
            },
            "type": "scattercarpet"
           }
          ],
          "scattergeo": [
           {
            "marker": {
             "colorbar": {
              "outlinewidth": 0,
              "ticks": ""
             }
            },
            "type": "scattergeo"
           }
          ],
          "scattergl": [
           {
            "marker": {
             "colorbar": {
              "outlinewidth": 0,
              "ticks": ""
             }
            },
            "type": "scattergl"
           }
          ],
          "scattermapbox": [
           {
            "marker": {
             "colorbar": {
              "outlinewidth": 0,
              "ticks": ""
             }
            },
            "type": "scattermapbox"
           }
          ],
          "scatterpolar": [
           {
            "marker": {
             "colorbar": {
              "outlinewidth": 0,
              "ticks": ""
             }
            },
            "type": "scatterpolar"
           }
          ],
          "scatterpolargl": [
           {
            "marker": {
             "colorbar": {
              "outlinewidth": 0,
              "ticks": ""
             }
            },
            "type": "scatterpolargl"
           }
          ],
          "scatterternary": [
           {
            "marker": {
             "colorbar": {
              "outlinewidth": 0,
              "ticks": ""
             }
            },
            "type": "scatterternary"
           }
          ],
          "surface": [
           {
            "colorbar": {
             "outlinewidth": 0,
             "ticks": ""
            },
            "colorscale": [
             [
              0,
              "#0d0887"
             ],
             [
              0.1111111111111111,
              "#46039f"
             ],
             [
              0.2222222222222222,
              "#7201a8"
             ],
             [
              0.3333333333333333,
              "#9c179e"
             ],
             [
              0.4444444444444444,
              "#bd3786"
             ],
             [
              0.5555555555555556,
              "#d8576b"
             ],
             [
              0.6666666666666666,
              "#ed7953"
             ],
             [
              0.7777777777777778,
              "#fb9f3a"
             ],
             [
              0.8888888888888888,
              "#fdca26"
             ],
             [
              1,
              "#f0f921"
             ]
            ],
            "type": "surface"
           }
          ],
          "table": [
           {
            "cells": {
             "fill": {
              "color": "#EBF0F8"
             },
             "line": {
              "color": "white"
             }
            },
            "header": {
             "fill": {
              "color": "#C8D4E3"
             },
             "line": {
              "color": "white"
             }
            },
            "type": "table"
           }
          ]
         },
         "layout": {
          "annotationdefaults": {
           "arrowcolor": "#2a3f5f",
           "arrowhead": 0,
           "arrowwidth": 1
          },
          "autotypenumbers": "strict",
          "coloraxis": {
           "colorbar": {
            "outlinewidth": 0,
            "ticks": ""
           }
          },
          "colorscale": {
           "diverging": [
            [
             0,
             "#8e0152"
            ],
            [
             0.1,
             "#c51b7d"
            ],
            [
             0.2,
             "#de77ae"
            ],
            [
             0.3,
             "#f1b6da"
            ],
            [
             0.4,
             "#fde0ef"
            ],
            [
             0.5,
             "#f7f7f7"
            ],
            [
             0.6,
             "#e6f5d0"
            ],
            [
             0.7,
             "#b8e186"
            ],
            [
             0.8,
             "#7fbc41"
            ],
            [
             0.9,
             "#4d9221"
            ],
            [
             1,
             "#276419"
            ]
           ],
           "sequential": [
            [
             0,
             "#0d0887"
            ],
            [
             0.1111111111111111,
             "#46039f"
            ],
            [
             0.2222222222222222,
             "#7201a8"
            ],
            [
             0.3333333333333333,
             "#9c179e"
            ],
            [
             0.4444444444444444,
             "#bd3786"
            ],
            [
             0.5555555555555556,
             "#d8576b"
            ],
            [
             0.6666666666666666,
             "#ed7953"
            ],
            [
             0.7777777777777778,
             "#fb9f3a"
            ],
            [
             0.8888888888888888,
             "#fdca26"
            ],
            [
             1,
             "#f0f921"
            ]
           ],
           "sequentialminus": [
            [
             0,
             "#0d0887"
            ],
            [
             0.1111111111111111,
             "#46039f"
            ],
            [
             0.2222222222222222,
             "#7201a8"
            ],
            [
             0.3333333333333333,
             "#9c179e"
            ],
            [
             0.4444444444444444,
             "#bd3786"
            ],
            [
             0.5555555555555556,
             "#d8576b"
            ],
            [
             0.6666666666666666,
             "#ed7953"
            ],
            [
             0.7777777777777778,
             "#fb9f3a"
            ],
            [
             0.8888888888888888,
             "#fdca26"
            ],
            [
             1,
             "#f0f921"
            ]
           ]
          },
          "colorway": [
           "#636efa",
           "#EF553B",
           "#00cc96",
           "#ab63fa",
           "#FFA15A",
           "#19d3f3",
           "#FF6692",
           "#B6E880",
           "#FF97FF",
           "#FECB52"
          ],
          "font": {
           "color": "#2a3f5f"
          },
          "geo": {
           "bgcolor": "white",
           "lakecolor": "white",
           "landcolor": "#E5ECF6",
           "showlakes": true,
           "showland": true,
           "subunitcolor": "white"
          },
          "hoverlabel": {
           "align": "left"
          },
          "hovermode": "closest",
          "mapbox": {
           "style": "light"
          },
          "paper_bgcolor": "white",
          "plot_bgcolor": "#E5ECF6",
          "polar": {
           "angularaxis": {
            "gridcolor": "white",
            "linecolor": "white",
            "ticks": ""
           },
           "bgcolor": "#E5ECF6",
           "radialaxis": {
            "gridcolor": "white",
            "linecolor": "white",
            "ticks": ""
           }
          },
          "scene": {
           "xaxis": {
            "backgroundcolor": "#E5ECF6",
            "gridcolor": "white",
            "gridwidth": 2,
            "linecolor": "white",
            "showbackground": true,
            "ticks": "",
            "zerolinecolor": "white"
           },
           "yaxis": {
            "backgroundcolor": "#E5ECF6",
            "gridcolor": "white",
            "gridwidth": 2,
            "linecolor": "white",
            "showbackground": true,
            "ticks": "",
            "zerolinecolor": "white"
           },
           "zaxis": {
            "backgroundcolor": "#E5ECF6",
            "gridcolor": "white",
            "gridwidth": 2,
            "linecolor": "white",
            "showbackground": true,
            "ticks": "",
            "zerolinecolor": "white"
           }
          },
          "shapedefaults": {
           "line": {
            "color": "#2a3f5f"
           }
          },
          "ternary": {
           "aaxis": {
            "gridcolor": "white",
            "linecolor": "white",
            "ticks": ""
           },
           "baxis": {
            "gridcolor": "white",
            "linecolor": "white",
            "ticks": ""
           },
           "bgcolor": "#E5ECF6",
           "caxis": {
            "gridcolor": "white",
            "linecolor": "white",
            "ticks": ""
           }
          },
          "title": {
           "x": 0.05
          },
          "xaxis": {
           "automargin": true,
           "gridcolor": "white",
           "linecolor": "white",
           "ticks": "",
           "title": {
            "standoff": 15
           },
           "zerolinecolor": "white",
           "zerolinewidth": 2
          },
          "yaxis": {
           "automargin": true,
           "gridcolor": "white",
           "linecolor": "white",
           "ticks": "",
           "title": {
            "standoff": 15
           },
           "zerolinecolor": "white",
           "zerolinewidth": 2
          }
         }
        },
        "title": {
         "font": {
          "color": "black",
          "family": "Kaiti",
          "size": 17
         },
         "text": "表的名称"
        },
        "width": 950,
        "xaxis": {
         "anchor": "y",
         "automargin": true,
         "autorange": true,
         "domain": [
          0,
          0.42
         ],
         "linecolor": "black",
         "linewidth": 1,
         "matches": "x3",
         "range": [
          -0.7502002884153182,
          11.750200288415318
         ],
         "showgrid": true,
         "showline": true,
         "showticklabels": true,
         "tickangle": -30,
         "tickcolor": "black",
         "tickfont": {
          "color": "black",
          "family": "Kaiti",
          "size": 15
         },
         "ticks": "inside",
         "ticktext": [
          "201501",
          "201502",
          "201503",
          "201504",
          "201505",
          "201506",
          "201507",
          "201508",
          "201509",
          "201510",
          "201511",
          "201512"
         ],
         "tickvals": [
          0,
          1,
          2,
          3,
          4,
          5,
          6,
          7,
          8,
          9,
          10,
          11
         ],
         "tickwidth": 1,
         "title": {
          "font": {
           "color": "black",
           "family": "Kaiti",
           "size": 15
          }
         },
         "type": "category",
         "zeroline": false
        },
        "xaxis2": {
         "anchor": "y3",
         "automargin": true,
         "autorange": true,
         "domain": [
          0.52,
          0.94
         ],
         "linecolor": "black",
         "linewidth": 1,
         "matches": "x4",
         "range": [
          -0.7502002884153182,
          11.750200288415318
         ],
         "showgrid": true,
         "showline": true,
         "showticklabels": true,
         "tickangle": -30,
         "tickcolor": "black",
         "tickfont": {
          "color": "black",
          "family": "Kaiti",
          "size": 15
         },
         "ticks": "inside",
         "ticktext": [
          "201501",
          "201502",
          "201503",
          "201504",
          "201505",
          "201506",
          "201507",
          "201508",
          "201509",
          "201510",
          "201511",
          "201512"
         ],
         "tickvals": [
          0,
          1,
          2,
          3,
          4,
          5,
          6,
          7,
          8,
          9,
          10,
          11
         ],
         "tickwidth": 1,
         "title": {
          "font": {
           "color": "black",
           "family": "Kaiti",
           "size": 15
          }
         },
         "type": "category",
         "zeroline": false
        },
        "xaxis3": {
         "anchor": "y5",
         "automargin": true,
         "autorange": true,
         "domain": [
          0,
          0.42
         ],
         "linecolor": "black",
         "linewidth": 1,
         "range": [
          -0.7502002884153182,
          11.750200288415318
         ],
         "showgrid": true,
         "showline": true,
         "showticklabels": true,
         "tickangle": -30,
         "tickcolor": "black",
         "tickfont": {
          "color": "black",
          "family": "Kaiti",
          "size": 15
         },
         "ticks": "inside",
         "ticktext": [
          "201501",
          "201502",
          "201503",
          "201504",
          "201505",
          "201506",
          "201507",
          "201508",
          "201509",
          "201510",
          "201511",
          "201512"
         ],
         "tickvals": [
          0,
          1,
          2,
          3,
          4,
          5,
          6,
          7,
          8,
          9,
          10,
          11
         ],
         "tickwidth": 1,
         "title": {
          "font": {
           "color": "black",
           "family": "Kaiti",
           "size": 15
          }
         },
         "type": "category",
         "zeroline": false
        },
        "xaxis4": {
         "anchor": "y7",
         "automargin": true,
         "autorange": true,
         "domain": [
          0.52,
          0.94
         ],
         "linecolor": "black",
         "linewidth": 1,
         "range": [
          -0.7502002884153182,
          11.750200288415318
         ],
         "showgrid": true,
         "showline": true,
         "showticklabels": true,
         "tickangle": -30,
         "tickcolor": "black",
         "tickfont": {
          "color": "black",
          "family": "Kaiti",
          "size": 15
         },
         "ticks": "inside",
         "ticktext": [
          "201501",
          "201502",
          "201503",
          "201504",
          "201505",
          "201506",
          "201507",
          "201508",
          "201509",
          "201510",
          "201511",
          "201512"
         ],
         "tickvals": [
          0,
          1,
          2,
          3,
          4,
          5,
          6,
          7,
          8,
          9,
          10,
          11
         ],
         "tickwidth": 1,
         "title": {
          "font": {
           "color": "black",
           "family": "Kaiti",
           "size": 15
          }
         },
         "type": "category",
         "zeroline": false
        },
        "yaxis": {
         "anchor": "x",
         "domain": [
          0.575,
          1
         ],
         "linecolor": "black",
         "linewidth": 1,
         "range": [
          0,
          500
         ],
         "showgrid": true,
         "tickcolor": "black",
         "ticks": "inside",
         "tickwidth": 1,
         "title": {
          "text": "数据轴"
         },
         "type": "linear",
         "zeroline": false,
         "zerolinecolor": "black",
         "zerolinewidth": 1
        },
        "yaxis2": {
         "anchor": "x",
         "linecolor": "black",
         "linewidth": 1,
         "overlaying": "y",
         "range": [
          0,
          0.1
         ],
         "showgrid": false,
         "side": "right",
         "tickcolor": "black",
         "ticks": "inside",
         "tickwidth": 1,
         "title": {
          "font": {
           "color": "black",
           "family": "Kaiti",
           "size": 15
          }
         },
         "type": "linear",
         "zeroline": false,
         "zerolinecolor": "black",
         "zerolinewidth": 1
        },
        "yaxis3": {
         "anchor": "x2",
         "domain": [
          0.575,
          1
         ],
         "linecolor": "black",
         "linewidth": 1,
         "matches": "y",
         "range": [
          0,
          500
         ],
         "showgrid": true,
         "showticklabels": false,
         "tickcolor": "black",
         "ticks": "inside",
         "tickwidth": 1,
         "title": {
          "text": "数据轴"
         },
         "type": "linear",
         "zeroline": false,
         "zerolinecolor": "black",
         "zerolinewidth": 1
        },
        "yaxis4": {
         "anchor": "x2",
         "linecolor": "black",
         "linewidth": 1,
         "overlaying": "y3",
         "range": [
          0,
          0.1
         ],
         "showgrid": false,
         "side": "right",
         "tickcolor": "black",
         "ticks": "inside",
         "tickwidth": 1,
         "title": {
          "font": {
           "color": "black",
           "family": "Kaiti",
           "size": 15
          }
         },
         "type": "linear",
         "zeroline": false,
         "zerolinecolor": "black",
         "zerolinewidth": 1
        },
        "yaxis5": {
         "anchor": "x3",
         "domain": [
          0,
          0.425
         ],
         "linecolor": "black",
         "linewidth": 1,
         "range": [
          0,
          500
         ],
         "showgrid": true,
         "tickcolor": "black",
         "ticks": "inside",
         "tickwidth": 1,
         "title": {
          "text": "数据轴"
         },
         "type": "linear",
         "zeroline": false,
         "zerolinecolor": "black",
         "zerolinewidth": 1
        },
        "yaxis6": {
         "anchor": "x3",
         "linecolor": "black",
         "linewidth": 1,
         "overlaying": "y5",
         "range": [
          0,
          0.1
         ],
         "showgrid": false,
         "side": "right",
         "tickcolor": "black",
         "ticks": "inside",
         "tickwidth": 1,
         "title": {
          "font": {
           "color": "black",
           "family": "Kaiti",
           "size": 15
          }
         },
         "type": "linear",
         "zeroline": false,
         "zerolinecolor": "black",
         "zerolinewidth": 1
        },
        "yaxis7": {
         "anchor": "x4",
         "domain": [
          0,
          0.425
         ],
         "linecolor": "black",
         "linewidth": 1,
         "matches": "y5",
         "range": [
          0,
          500
         ],
         "showgrid": true,
         "showticklabels": false,
         "tickcolor": "black",
         "ticks": "inside",
         "tickwidth": 1,
         "title": {
          "text": "数据轴"
         },
         "type": "linear",
         "zeroline": false,
         "zerolinecolor": "black",
         "zerolinewidth": 1
        },
        "yaxis8": {
         "anchor": "x4",
         "linecolor": "black",
         "linewidth": 1,
         "overlaying": "y7",
         "range": [
          0,
          0.1
         ],
         "showgrid": false,
         "side": "right",
         "tickcolor": "black",
         "ticks": "inside",
         "tickwidth": 1,
         "title": {
          "font": {
           "color": "black",
           "family": "Kaiti",
           "size": 15
          }
         },
         "type": "linear",
         "zeroline": false,
         "zerolinecolor": "black",
         "zerolinewidth": 1
        }
       }
      },
      "image/png": "[encoded data removed]",
      "text/html": [
       "<div>                            <div id=\"288fae25-5079-4b2a-b113-27d5873dc70f\" class=\"plotly-graph-div\" style=\"height:534px; width:950px;\"></div>            <script type=\"text/javascript\">                require([\"plotly\"], function(Plotly) {                    window.PLOTLYENV=window.PLOTLYENV || {};                                    if (document.getElementById(\"288fae25-5079-4b2a-b113-27d5873dc70f\")) {                    Plotly.newPlot(                        \"288fae25-5079-4b2a-b113-27d5873dc70f\",                        [{\"hoverinfo\":\"text+x+y\",\"legendgroup\":\"\\u6570\\u636e1\",\"line\":{\"color\":\"#51689b\",\"dash\":\"solid\",\"shape\":\"spline\",\"width\":2},\"marker\":{\"color\":\"white\",\"line\":{\"color\":\"#51689b\",\"width\":2},\"size\":5,\"symbol\":\"circle\"},\"mode\":\"lines+markers\",\"name\":\"\\u6570\\u636e1\",\"opacity\":0.9,\"showlegend\":true,\"text\":[\"2.6\",\"5.9\",\"9.0\",\"26.4\",\"28.7\",\"70.7\",\"175.6\",\"182.2\",\"48.7\",\"18.8\",\"6.0\",\"2.3\"],\"textfont\":{\"color\":\"#51689b\",\"family\":\"Kaiti\",\"size\":15},\"textposition\":\"top center\",\"x\":[\"201501\",\"201502\",\"201503\",\"201504\",\"201505\",\"201506\",\"201507\",\"201508\",\"201509\",\"201510\",\"201511\",\"201512\"],\"y\":[2.6,5.9,9.0,26.4,28.7,70.7,175.6,182.2,48.7,18.8,6.0,2.3],\"type\":\"scatter\",\"xaxis\":\"x\",\"yaxis\":\"y\"},{\"hoverinfo\":\"text+x+y\",\"legendgroup\":\"\\u6570\\u636e2\",\"line\":{\"color\":\"#ce5c5c\",\"dash\":\"solid\",\"shape\":\"spline\",\"width\":2},\"marker\":{\"color\":\"white\",\"line\":{\"color\":\"#ce5c5c\",\"width\":2},\"size\":5,\"symbol\":\"circle\"},\"mode\":\"lines+markers\",\"name\":\"\\u6570\\u636e2\",\"opacity\":0.9,\"showlegend\":true,\"text\":[\"3.9\",\"5.9\",\"11.1\",\"18.7\",\"48.3\",\"69.2\",\"231.6\",\"46.6\",\"55.4\",\"18.4\",\"10.3\",\"0.7\"],\"textfont\":{\"color\":\"#ce5c5c\",\"family\":\"Kaiti\",\"size\":15},\"textposition\":\"top center\",\"x\":[\"201501\",\"201502\",\"201503\",\"201504\",\"201505\",\"201506\",\"201507\",\"201508\",\"201509\",\"201510\",\"201511\",\"201512\"],\"y\":[3.9,5.9,11.1,18.7,48.3,69.2,231.6,46.6,55.4,18.4,10.3,0.7],\"type\":\"scatter\",\"xaxis\":\"x\",\"yaxis\":\"y\"},{\"hoverinfo\":\"text+x+y\",\"legendgroup\":\"\\u6570\\u636e3\",\"line\":{\"color\":\"#fbc357\",\"dash\":\"solid\",\"shape\":\"spline\",\"width\":2},\"marker\":{\"color\":\"white\",\"line\":{\"color\":\"#fbc357\",\"width\":2},\"size\":5,\"symbol\":\"circle\"},\"mode\":\"lines+markers\",\"name\":\"\\u6570\\u636e3\",\"opacity\":0.9,\"showlegend\":true,\"text\":[\"0.01\",\"0.02\",\"0.01\",\"0.02\",\"0.01\",\"0.028\",\"0.035\",\"0.047\",\"0.078\",\"0.064\",\"0.042\",\"0.039\"],\"textfont\":{\"color\":\"#fbc357\",\"family\":\"Kaiti\",\"size\":15},\"textposition\":\"top center\",\"x\":[\"201501\",\"201502\",\"201503\",\"201504\",\"201505\",\"201506\",\"201507\",\"201508\",\"201509\",\"201510\",\"201511\",\"201512\"],\"y\":[0.01,0.02,0.01,0.02,0.01,0.028,0.035,0.047,0.078,0.064,0.042,0.039],\"type\":\"scatter\",\"xaxis\":\"x\",\"yaxis\":\"y2\"},{\"hoverinfo\":\"text+x+y\",\"legendgroup\":\"\\u6570\\u636e1\",\"line\":{\"color\":\"#8fbf8f\",\"dash\":\"solid\",\"shape\":\"spline\",\"width\":2},\"marker\":{\"color\":\"white\",\"line\":{\"color\":\"#8fbf8f\",\"width\":2},\"size\":5,\"symbol\":\"circle\"},\"mode\":\"lines+markers\",\"name\":\"\\u6570\\u636e1\",\"opacity\":0.9,\"showlegend\":false,\"text\":[\"2.6\",\"5.9\",\"9.0\",\"26.4\",\"28.7\",\"70.7\",\"175.6\",\"182.2\",\"48.7\",\"18.8\",\"6.0\",\"2.3\"],\"textfont\":{\"color\":\"#8fbf8f\",\"family\":\"Kaiti\",\"size\":15},\"textposition\":\"top center\",\"x\":[\"201501\",\"201502\",\"201503\",\"201504\",\"201505\",\"201506\",\"201507\",\"201508\",\"201509\",\"201510\",\"201511\",\"201512\"],\"y\":[2.6,5.9,9.0,26.4,28.7,70.7,175.6,182.2,48.7,18.8,6.0,2.3],\"type\":\"scatter\",\"xaxis\":\"x2\",\"yaxis\":\"y3\"},{\"hoverinfo\":\"text+x+y\",\"legendgroup\":\"\\u6570\\u636e2\",\"line\":{\"color\":\"#ce5c5c\",\"dash\":\"solid\",\"shape\":\"spline\",\"width\":2},\"marker\":{\"color\":\"white\",\"line\":{\"color\":\"#ce5c5c\",\"width\":2},\"size\":5,\"symbol\":\"circle\"},\"mode\":\"lines+markers\",\"name\":\"\\u6570\\u636e2\",\"opacity\":0.9,\"showlegend\":false,\"text\":[\"3.9\",\"5.9\",\"11.1\",\"18.7\",\"48.3\",\"69.2\",\"231.6\",\"46.6\",\"55.4\",\"18.4\",\"10.3\",\"0.7\"],\"textfont\":{\"color\":\"#ce5c5c\",\"family\":\"Kaiti\",\"size\":15},\"textposition\":\"top center\",\"x\":[\"201501\",\"201502\",\"201503\",\"201504\",\"201505\",\"201506\",\"201507\",\"201508\",\"201509\",\"201510\",\"201511\",\"201512\"],\"y\":[3.9,5.9,11.1,18.7,48.3,69.2,231.6,46.6,55.4,18.4,10.3,0.7],\"type\":\"scatter\",\"xaxis\":\"x2\",\"yaxis\":\"y3\"},{\"hoverinfo\":\"text+x+y\",\"legendgroup\":\"\\u6570\\u636e3\",\"line\":{\"color\":\"#fbc357\",\"dash\":\"solid\",\"shape\":\"spline\",\"width\":2},\"marker\":{\"color\":\"white\",\"line\":{\"color\":\"#fbc357\",\"width\":2},\"size\":5,\"symbol\":\"circle\"},\"mode\":\"lines+markers\",\"name\":\"\\u6570\\u636e3\",\"opacity\":0.9,\"showlegend\":false,\"text\":[\"0.01\",\"0.02\",\"0.01\",\"0.02\",\"0.01\",\"0.028\",\"0.035\",\"0.047\",\"0.078\",\"0.064\",\"0.042\",\"0.039\"],\"textfont\":{\"color\":\"#fbc357\",\"family\":\"Kaiti\",\"size\":15},\"textposition\":\"top center\",\"x\":[\"201501\",\"201502\",\"201503\",\"201504\",\"201505\",\"201506\",\"201507\",\"201508\",\"201509\",\"201510\",\"201511\",\"201512\"],\"y\":[0.01,0.02,0.01,0.02,0.01,0.028,0.035,0.047,0.078,0.064,0.042,0.039],\"type\":\"scatter\",\"xaxis\":\"x2\",\"yaxis\":\"y4\"},{\"hoverinfo\":\"text+x+y\",\"legendgroup\":\"\\u6570\\u636e1\",\"line\":{\"color\":\"#659d84\",\"dash\":\"solid\",\"shape\":\"spline\",\"width\":2},\"marker\":{\"color\":\"white\",\"line\":{\"color\":\"#659d84\",\"width\":2},\"size\":5,\"symbol\":\"circle\"},\"mode\":\"lines+markers\",\"name\":\"\\u6570\\u636e1\",\"opacity\":0.9,\"showlegend\":false,\"text\":[\"2.6\",\"5.9\",\"9.0\",\"26.4\",\"28.7\",\"70.7\",\"175.6\",\"182.2\",\"48.7\",\"18.8\",\"6.0\",\"2.3\"],\"textfont\":{\"color\":\"#659d84\",\"family\":\"Kaiti\",\"size\":15},\"textposition\":\"top center\",\"x\":[\"201501\",\"201502\",\"201503\",\"201504\",\"201505\",\"201506\",\"201507\",\"201508\",\"201509\",\"201510\",\"201511\",\"201512\"],\"y\":[2.6,5.9,9.0,26.4,28.7,70.7,175.6,182.2,48.7,18.8,6.0,2.3],\"type\":\"scatter\",\"xaxis\":\"x3\",\"yaxis\":\"y5\"},{\"hoverinfo\":\"text+x+y\",\"legendgroup\":\"\\u6570\\u636e2\",\"line\":{\"color\":\"#ce5c5c\",\"dash\":\"solid\",\"shape\":\"spline\",\"width\":2},\"marker\":{\"color\":\"white\",\"line\":{\"color\":\"#ce5c5c\",\"width\":2},\"size\":5,\"symbol\":\"circle\"},\"mode\":\"lines+markers\",\"name\":\"\\u6570\\u636e2\",\"opacity\":0.9,\"showlegend\":false,\"text\":[\"3.9\",\"5.9\",\"11.1\",\"18.7\",\"48.3\",\"69.2\",\"231.6\",\"46.6\",\"55.4\",\"18.4\",\"10.3\",\"0.7\"],\"textfont\":{\"color\":\"#ce5c5c\",\"family\":\"Kaiti\",\"size\":15},\"textposition\":\"top center\",\"x\":[\"201501\",\"201502\",\"201503\",\"201504\",\"201505\",\"201506\",\"201507\",\"201508\",\"201509\",\"201510\",\"201511\",\"201512\"],\"y\":[3.9,5.9,11.1,18.7,48.3,69.2,231.6,46.6,55.4,18.4,10.3,0.7],\"type\":\"scatter\",\"xaxis\":\"x3\",\"yaxis\":\"y5\"},{\"hoverinfo\":\"text+x+y\",\"legendgroup\":\"\\u6570\\u636e3\",\"line\":{\"color\":\"#fbc357\",\"dash\":\"solid\",\"shape\":\"spline\",\"width\":2},\"marker\":{\"color\":\"white\",\"line\":{\"color\":\"#fbc357\",\"width\":2},\"size\":5,\"symbol\":\"circle\"},\"mode\":\"lines+markers\",\"name\":\"\\u6570\\u636e3\",\"opacity\":0.9,\"showlegend\":false,\"text\":[\"0.01\",\"0.02\",\"0.01\",\"0.02\",\"0.01\",\"0.028\",\"0.035\",\"0.047\",\"0.078\",\"0.064\",\"0.042\",\"0.039\"],\"textfont\":{\"color\":\"#fbc357\",\"family\":\"Kaiti\",\"size\":15},\"textposition\":\"top center\",\"x\":[\"201501\",\"201502\",\"201503\",\"201504\",\"201505\",\"201506\",\"201507\",\"201508\",\"201509\",\"201510\",\"201511\",\"201512\"],\"y\":[0.01,0.02,0.01,0.02,0.01,0.028,0.035,0.047,0.078,0.064,0.042,0.039],\"type\":\"scatter\",\"xaxis\":\"x3\",\"yaxis\":\"y6\"},{\"hoverinfo\":\"text+x+y\",\"legendgroup\":\"\\u6570\\u636e1\",\"line\":{\"color\":\"#fb8e6a\",\"dash\":\"solid\",\"shape\":\"spline\",\"width\":2},\"marker\":{\"color\":\"white\",\"line\":{\"color\":\"#fb8e6a\",\"width\":2},\"size\":5,\"symbol\":\"circle\"},\"mode\":\"lines+markers\",\"name\":\"\\u6570\\u636e1\",\"opacity\":0.9,\"showlegend\":false,\"text\":[\"2.6\",\"5.9\",\"9.0\",\"26.4\",\"28.7\",\"70.7\",\"175.6\",\"182.2\",\"48.7\",\"18.8\",\"6.0\",\"2.3\"],\"textfont\":{\"color\":\"#fb8e6a\",\"family\":\"Kaiti\",\"size\":15},\"textposition\":\"top center\",\"x\":[\"201501\",\"201502\",\"201503\",\"201504\",\"201505\",\"201506\",\"201507\",\"201508\",\"201509\",\"201510\",\"201511\",\"201512\"],\"y\":[2.6,5.9,9.0,26.4,28.7,70.7,175.6,182.2,48.7,18.8,6.0,2.3],\"type\":\"scatter\",\"xaxis\":\"x4\",\"yaxis\":\"y7\"},{\"hoverinfo\":\"text+x+y\",\"legendgroup\":\"\\u6570\\u636e2\",\"line\":{\"color\":\"#ce5c5c\",\"dash\":\"solid\",\"shape\":\"spline\",\"width\":2},\"marker\":{\"color\":\"white\",\"line\":{\"color\":\"#ce5c5c\",\"width\":2},\"size\":5,\"symbol\":\"circle\"},\"mode\":\"lines+markers\",\"name\":\"\\u6570\\u636e2\",\"opacity\":0.9,\"showlegend\":false,\"text\":[\"3.9\",\"5.9\",\"11.1\",\"18.7\",\"48.3\",\"69.2\",\"231.6\",\"46.6\",\"55.4\",\"18.4\",\"10.3\",\"0.7\"],\"textfont\":{\"color\":\"#ce5c5c\",\"family\":\"Kaiti\",\"size\":15},\"textposition\":\"top center\",\"x\":[\"201501\",\"201502\",\"201503\",\"201504\",\"201505\",\"201506\",\"201507\",\"201508\",\"201509\",\"201510\",\"201511\",\"201512\"],\"y\":[3.9,5.9,11.1,18.7,48.3,69.2,231.6,46.6,55.4,18.4,10.3,0.7],\"type\":\"scatter\",\"xaxis\":\"x4\",\"yaxis\":\"y7\"},{\"hoverinfo\":\"text+x+y\",\"legendgroup\":\"\\u6570\\u636e3\",\"line\":{\"color\":\"#fbc357\",\"dash\":\"solid\",\"shape\":\"spline\",\"width\":2},\"marker\":{\"color\":\"white\",\"line\":{\"color\":\"#fbc357\",\"width\":2},\"size\":5,\"symbol\":\"circle\"},\"mode\":\"lines+markers\",\"name\":\"\\u6570\\u636e3\",\"opacity\":0.9,\"showlegend\":false,\"text\":[\"0.01\",\"0.02\",\"0.01\",\"0.02\",\"0.01\",\"0.028\",\"0.035\",\"0.047\",\"0.078\",\"0.064\",\"0.042\",\"0.039\"],\"textfont\":{\"color\":\"#fbc357\",\"family\":\"Kaiti\",\"size\":15},\"textposition\":\"top center\",\"x\":[\"201501\",\"201502\",\"201503\",\"201504\",\"201505\",\"201506\",\"201507\",\"201508\",\"201509\",\"201510\",\"201511\",\"201512\"],\"y\":[0.01,0.02,0.01,0.02,0.01,0.028,0.035,0.047,0.078,0.064,0.042,0.039],\"type\":\"scatter\",\"xaxis\":\"x4\",\"yaxis\":\"y8\"}],                        {\"template\":{\"data\":{\"histogram2dcontour\":[{\"type\":\"histogram2dcontour\",\"colorbar\":{\"outlinewidth\":0,\"ticks\":\"\"},\"colorscale\":[[0.0,\"#0d0887\"],[0.1111111111111111,\"#46039f\"],[0.2222222222222222,\"#7201a8\"],[0.3333333333333333,\"#9c179e\"],[0.4444444444444444,\"#bd3786\"],[0.5555555555555556,\"#d8576b\"],[0.6666666666666666,\"#ed7953\"],[0.7777777777777778,\"#fb9f3a\"],[0.8888888888888888,\"#fdca26\"],[1.0,\"#f0f921\"]]}],\"choropleth\":[{\"type\":\"choropleth\",\"colorbar\":{\"outlinewidth\":0,\"ticks\":\"\"}}],\"histogram2d\":[{\"type\":\"histogram2d\",\"colorbar\":{\"outlinewidth\":0,\"ticks\":\"\"},\"colorscale\":[[0.0,\"#0d0887\"],[0.1111111111111111,\"#46039f\"],[0.2222222222222222,\"#7201a8\"],[0.3333333333333333,\"#9c179e\"],[0.4444444444444444,\"#bd3786\"],[0.5555555555555556,\"#d8576b\"],[0.6666666666666666,\"#ed7953\"],[0.7777777777777778,\"#fb9f3a\"],[0.8888888888888888,\"#fdca26\"],[1.0,\"#f0f921\"]]}],\"heatmap\":[{\"type\":\"heatmap\",\"colorbar\":{\"outlinewidth\":0,\"ticks\":\"\"},\"colorscale\":[[0.0,\"#0d0887\"],[0.1111111111111111,\"#46039f\"],[0.2222222222222222,\"#7201a8\"],[0.3333333333333333,\"#9c179e\"],[0.4444444444444444,\"#bd3786\"],[0.5555555555555556,\"#d8576b\"],[0.6666666666666666,\"#ed7953\"],[0.7777777777777778,\"#fb9f3a\"],[0.8888888888888888,\"#fdca26\"],[1.0,\"#f0f921\"]]}],\"heatmapgl\":[{\"type\":\"heatmapgl\",\"colorbar\":{\"outlinewidth\":0,\"ticks\":\"\"},\"colorscale\":[[0.0,\"#0d0887\"],[0.1111111111111111,\"#46039f\"],[0.2222222222222222,\"#7201a8\"],[0.3333333333333333,\"#9c179e\"],[0.4444444444444444,\"#bd3786\"],[0.5555555555555556,\"#d8576b\"],[0.6666666666666666,\"#ed7953\"],[0.7777777777777778,\"#fb9f3a\"],[0.8888888888888888,\"#fdca26\"],[1.0,\"#f0f921\"]]}],\"contourcarpet\":[{\"type\":\"contourcarpet\",\"colorbar\":{\"outlinewidth\":0,\"ticks\":\"\"}}],\"contour\":[{\"type\":\"contour\",\"colorbar\":{\"outlinewidth\":0,\"ticks\":\"\"},\"colorscale\":[[0.0,\"#0d0887\"],[0.1111111111111111,\"#46039f\"],[0.2222222222222222,\"#7201a8\"],[0.3333333333333333,\"#9c179e\"],[0.4444444444444444,\"#bd3786\"],[0.5555555555555556,\"#d8576b\"],[0.6666666666666666,\"#ed7953\"],[0.7777777777777778,\"#fb9f3a\"],[0.8888888888888888,\"#fdca26\"],[1.0,\"#f0f921\"]]}],\"surface\":[{\"type\":\"surface\",\"colorbar\":{\"outlinewidth\":0,\"ticks\":\"\"},\"colorscale\":[[0.0,\"#0d0887\"],[0.1111111111111111,\"#46039f\"],[0.2222222222222222,\"#7201a8\"],[0.3333333333333333,\"#9c179e\"],[0.4444444444444444,\"#bd3786\"],[0.5555555555555556,\"#d8576b\"],[0.6666666666666666,\"#ed7953\"],[0.7777777777777778,\"#fb9f3a\"],[0.8888888888888888,\"#fdca26\"],[1.0,\"#f0f921\"]]}],\"mesh3d\":[{\"type\":\"mesh3d\",\"colorbar\":{\"outlinewidth\":0,\"ticks\":\"\"}}],\"scatter\":[{\"fillpattern\":{\"fillmode\":\"overlay\",\"size\":10,\"solidity\":0.2},\"type\":\"scatter\"}],\"parcoords\":[{\"type\":\"parcoords\",\"line\":{\"colorbar\":{\"outlinewidth\":0,\"ticks\":\"\"}}}],\"scatterpolargl\":[{\"type\":\"scatterpolargl\",\"marker\":{\"colorbar\":{\"outlinewidth\":0,\"ticks\":\"\"}}}],\"bar\":[{\"error_x\":{\"color\":\"#2a3f5f\"},\"error_y\":{\"color\":\"#2a3f5f\"},\"marker\":{\"line\":{\"color\":\"#E5ECF6\",\"width\":0.5},\"pattern\":{\"fillmode\":\"overlay\",\"size\":10,\"solidity\":0.2}},\"type\":\"bar\"}],\"scattergeo\":[{\"type\":\"scattergeo\",\"marker\":{\"colorbar\":{\"outlinewidth\":0,\"ticks\":\"\"}}}],\"scatterpolar\":[{\"type\":\"scatterpolar\",\"marker\":{\"colorbar\":{\"outlinewidth\":0,\"ticks\":\"\"}}}],\"histogram\":[{\"marker\":{\"pattern\":{\"fillmode\":\"overlay\",\"size\":10,\"solidity\":0.2}},\"type\":\"histogram\"}],\"scattergl\":[{\"type\":\"scattergl\",\"marker\":{\"colorbar\":{\"outlinewidth\":0,\"ticks\":\"\"}}}],\"scatter3d\":[{\"type\":\"scatter3d\",\"line\":{\"colorbar\":{\"outlinewidth\":0,\"ticks\":\"\"}},\"marker\":{\"colorbar\":{\"outlinewidth\":0,\"ticks\":\"\"}}}],\"scattermapbox\":[{\"type\":\"scattermapbox\",\"marker\":{\"colorbar\":{\"outlinewidth\":0,\"ticks\":\"\"}}}],\"scatterternary\":[{\"type\":\"scatterternary\",\"marker\":{\"colorbar\":{\"outlinewidth\":0,\"ticks\":\"\"}}}],\"scattercarpet\":[{\"type\":\"scattercarpet\",\"marker\":{\"colorbar\":{\"outlinewidth\":0,\"ticks\":\"\"}}}],\"carpet\":[{\"aaxis\":{\"endlinecolor\":\"#2a3f5f\",\"gridcolor\":\"white\",\"linecolor\":\"white\",\"minorgridcolor\":\"white\",\"startlinecolor\":\"#2a3f5f\"},\"baxis\":{\"endlinecolor\":\"#2a3f5f\",\"gridcolor\":\"white\",\"linecolor\":\"white\",\"minorgridcolor\":\"white\",\"startlinecolor\":\"#2a3f5f\"},\"type\":\"carpet\"}],\"table\":[{\"cells\":{\"fill\":{\"color\":\"#EBF0F8\"},\"line\":{\"color\":\"white\"}},\"header\":{\"fill\":{\"color\":\"#C8D4E3\"},\"line\":{\"color\":\"white\"}},\"type\":\"table\"}],\"barpolar\":[{\"marker\":{\"line\":{\"color\":\"#E5ECF6\",\"width\":0.5},\"pattern\":{\"fillmode\":\"overlay\",\"size\":10,\"solidity\":0.2}},\"type\":\"barpolar\"}],\"pie\":[{\"automargin\":true,\"type\":\"pie\"}]},\"layout\":{\"autotypenumbers\":\"strict\",\"colorway\":[\"#636efa\",\"#EF553B\",\"#00cc96\",\"#ab63fa\",\"#FFA15A\",\"#19d3f3\",\"#FF6692\",\"#B6E880\",\"#FF97FF\",\"#FECB52\"],\"font\":{\"color\":\"#2a3f5f\"},\"hovermode\":\"closest\",\"hoverlabel\":{\"align\":\"left\"},\"paper_bgcolor\":\"white\",\"plot_bgcolor\":\"#E5ECF6\",\"polar\":{\"bgcolor\":\"#E5ECF6\",\"angularaxis\":{\"gridcolor\":\"white\",\"linecolor\":\"white\",\"ticks\":\"\"},\"radialaxis\":{\"gridcolor\":\"white\",\"linecolor\":\"white\",\"ticks\":\"\"}},\"ternary\":{\"bgcolor\":\"#E5ECF6\",\"aaxis\":{\"gridcolor\":\"white\",\"linecolor\":\"white\",\"ticks\":\"\"},\"baxis\":{\"gridcolor\":\"white\",\"linecolor\":\"white\",\"ticks\":\"\"},\"caxis\":{\"gridcolor\":\"white\",\"linecolor\":\"white\",\"ticks\":\"\"}},\"coloraxis\":{\"colorbar\":{\"outlinewidth\":0,\"ticks\":\"\"}},\"colorscale\":{\"sequential\":[[0.0,\"#0d0887\"],[0.1111111111111111,\"#46039f\"],[0.2222222222222222,\"#7201a8\"],[0.3333333333333333,\"#9c179e\"],[0.4444444444444444,\"#bd3786\"],[0.5555555555555556,\"#d8576b\"],[0.6666666666666666,\"#ed7953\"],[0.7777777777777778,\"#fb9f3a\"],[0.8888888888888888,\"#fdca26\"],[1.0,\"#f0f921\"]],\"sequentialminus\":[[0.0,\"#0d0887\"],[0.1111111111111111,\"#46039f\"],[0.2222222222222222,\"#7201a8\"],[0.3333333333333333,\"#9c179e\"],[0.4444444444444444,\"#bd3786\"],[0.5555555555555556,\"#d8576b\"],[0.6666666666666666,\"#ed7953\"],[0.7777777777777778,\"#fb9f3a\"],[0.8888888888888888,\"#fdca26\"],[1.0,\"#f0f921\"]],\"diverging\":[[0,\"#8e0152\"],[0.1,\"#c51b7d\"],[0.2,\"#de77ae\"],[0.3,\"#f1b6da\"],[0.4,\"#fde0ef\"],[0.5,\"#f7f7f7\"],[0.6,\"#e6f5d0\"],[0.7,\"#b8e186\"],[0.8,\"#7fbc41\"],[0.9,\"#4d9221\"],[1,\"#276419\"]]},\"xaxis\":{\"gridcolor\":\"white\",\"linecolor\":\"white\",\"ticks\":\"\",\"title\":{\"standoff\":15},\"zerolinecolor\":\"white\",\"automargin\":true,\"zerolinewidth\":2},\"yaxis\":{\"gridcolor\":\"white\",\"linecolor\":\"white\",\"ticks\":\"\",\"title\":{\"standoff\":15},\"zerolinecolor\":\"white\",\"automargin\":true,\"zerolinewidth\":2},\"scene\":{\"xaxis\":{\"backgroundcolor\":\"#E5ECF6\",\"gridcolor\":\"white\",\"linecolor\":\"white\",\"showbackground\":true,\"ticks\":\"\",\"zerolinecolor\":\"white\",\"gridwidth\":2},\"yaxis\":{\"backgroundcolor\":\"#E5ECF6\",\"gridcolor\":\"white\",\"linecolor\":\"white\",\"showbackground\":true,\"ticks\":\"\",\"zerolinecolor\":\"white\",\"gridwidth\":2},\"zaxis\":{\"backgroundcolor\":\"#E5ECF6\",\"gridcolor\":\"white\",\"linecolor\":\"white\",\"showbackground\":true,\"ticks\":\"\",\"zerolinecolor\":\"white\",\"gridwidth\":2}},\"shapedefaults\":{\"line\":{\"color\":\"#2a3f5f\"}},\"annotationdefaults\":{\"arrowcolor\":\"#2a3f5f\",\"arrowhead\":0,\"arrowwidth\":1},\"geo\":{\"bgcolor\":\"white\",\"landcolor\":\"#E5ECF6\",\"subunitcolor\":\"white\",\"showland\":true,\"showlakes\":true,\"lakecolor\":\"white\"},\"title\":{\"x\":0.05},\"mapbox\":{\"style\":\"light\"}}},\"xaxis\":{\"anchor\":\"y\",\"domain\":[0.0,0.42],\"matches\":\"x3\",\"showticklabels\":true,\"title\":{\"font\":{\"size\":15,\"family\":\"Kaiti\",\"color\":\"black\"}},\"tickfont\":{\"color\":\"black\",\"family\":\"Kaiti\",\"size\":15},\"showline\":true,\"type\":\"category\",\"automargin\":true,\"tickangle\":-30,\"tickvals\":[0,1,2,3,4,5,6,7,8,9,10,11],\"ticktext\":[\"201501\",\"201502\",\"201503\",\"201504\",\"201505\",\"201506\",\"201507\",\"201508\",\"201509\",\"201510\",\"201511\",\"201512\"],\"showgrid\":true,\"zeroline\":false,\"linecolor\":\"black\",\"linewidth\":1,\"ticks\":\"inside\",\"tickcolor\":\"black\",\"tickwidth\":1},\"yaxis\":{\"anchor\":\"x\",\"domain\":[0.575,1.0],\"title\":{\"text\":\"\\u6570\\u636e\\u8f74\"},\"range\":[0,500],\"showgrid\":true,\"zeroline\":false,\"zerolinewidth\":1,\"zerolinecolor\":\"black\",\"linecolor\":\"black\",\"linewidth\":1,\"ticks\":\"inside\",\"tickcolor\":\"black\",\"tickwidth\":1},\"yaxis2\":{\"anchor\":\"x\",\"overlaying\":\"y\",\"side\":\"right\",\"title\":{\"font\":{\"size\":15,\"family\":\"Kaiti\",\"color\":\"black\"}},\"range\":[0,0.1],\"showgrid\":false,\"zeroline\":false,\"zerolinewidth\":1,\"zerolinecolor\":\"black\",\"linecolor\":\"black\",\"linewidth\":1,\"ticks\":\"inside\",\"tickcolor\":\"black\",\"tickwidth\":1},\"xaxis2\":{\"anchor\":\"y3\",\"domain\":[0.52,0.94],\"matches\":\"x4\",\"showticklabels\":true,\"title\":{\"font\":{\"size\":15,\"family\":\"Kaiti\",\"color\":\"black\"}},\"tickfont\":{\"color\":\"black\",\"family\":\"Kaiti\",\"size\":15},\"showline\":true,\"type\":\"category\",\"automargin\":true,\"tickangle\":-30,\"tickvals\":[0,1,2,3,4,5,6,7,8,9,10,11],\"ticktext\":[\"201501\",\"201502\",\"201503\",\"201504\",\"201505\",\"201506\",\"201507\",\"201508\",\"201509\",\"201510\",\"201511\",\"201512\"],\"showgrid\":true,\"zeroline\":false,\"linecolor\":\"black\",\"linewidth\":1,\"ticks\":\"inside\",\"tickcolor\":\"black\",\"tickwidth\":1},\"yaxis3\":{\"anchor\":\"x2\",\"domain\":[0.575,1.0],\"matches\":\"y\",\"showticklabels\":false,\"title\":{\"text\":\"\\u6570\\u636e\\u8f74\"},\"range\":[0,500],\"showgrid\":true,\"zeroline\":false,\"zerolinewidth\":1,\"zerolinecolor\":\"black\",\"linecolor\":\"black\",\"linewidth\":1,\"ticks\":\"inside\",\"tickcolor\":\"black\",\"tickwidth\":1},\"yaxis4\":{\"anchor\":\"x2\",\"overlaying\":\"y3\",\"side\":\"right\",\"title\":{\"font\":{\"size\":15,\"family\":\"Kaiti\",\"color\":\"black\"}},\"range\":[0,0.1],\"showgrid\":false,\"zeroline\":false,\"zerolinewidth\":1,\"zerolinecolor\":\"black\",\"linecolor\":\"black\",\"linewidth\":1,\"ticks\":\"inside\",\"tickcolor\":\"black\",\"tickwidth\":1},\"xaxis3\":{\"anchor\":\"y5\",\"domain\":[0.0,0.42],\"title\":{\"font\":{\"size\":15,\"family\":\"Kaiti\",\"color\":\"black\"}},\"tickfont\":{\"color\":\"black\",\"family\":\"Kaiti\",\"size\":15},\"showline\":true,\"showticklabels\":true,\"type\":\"category\",\"automargin\":true,\"tickangle\":-30,\"tickvals\":[0,1,2,3,4,5,6,7,8,9,10,11],\"ticktext\":[\"201501\",\"201502\",\"201503\",\"201504\",\"201505\",\"201506\",\"201507\",\"201508\",\"201509\",\"201510\",\"201511\",\"201512\"],\"showgrid\":true,\"zeroline\":false,\"linecolor\":\"black\",\"linewidth\":1,\"ticks\":\"inside\",\"tickcolor\":\"black\",\"tickwidth\":1},\"yaxis5\":{\"anchor\":\"x3\",\"domain\":[0.0,0.425],\"title\":{\"text\":\"\\u6570\\u636e\\u8f74\"},\"range\":[0,500],\"showgrid\":true,\"zeroline\":false,\"zerolinewidth\":1,\"zerolinecolor\":\"black\",\"linecolor\":\"black\",\"linewidth\":1,\"ticks\":\"inside\",\"tickcolor\":\"black\",\"tickwidth\":1},\"yaxis6\":{\"anchor\":\"x3\",\"overlaying\":\"y5\",\"side\":\"right\",\"title\":{\"font\":{\"size\":15,\"family\":\"Kaiti\",\"color\":\"black\"}},\"range\":[0,0.1],\"showgrid\":false,\"zeroline\":false,\"zerolinewidth\":1,\"zerolinecolor\":\"black\",\"linecolor\":\"black\",\"linewidth\":1,\"ticks\":\"inside\",\"tickcolor\":\"black\",\"tickwidth\":1},\"xaxis4\":{\"anchor\":\"y7\",\"domain\":[0.52,0.94],\"title\":{\"font\":{\"size\":15,\"family\":\"Kaiti\",\"color\":\"black\"}},\"tickfont\":{\"color\":\"black\",\"family\":\"Kaiti\",\"size\":15},\"showline\":true,\"showticklabels\":true,\"type\":\"category\",\"automargin\":true,\"tickangle\":-30,\"tickvals\":[0,1,2,3,4,5,6,7,8,9,10,11],\"ticktext\":[\"201501\",\"201502\",\"201503\",\"201504\",\"201505\",\"201506\",\"201507\",\"201508\",\"201509\",\"201510\",\"201511\",\"201512\"],\"showgrid\":true,\"zeroline\":false,\"linecolor\":\"black\",\"linewidth\":1,\"ticks\":\"inside\",\"tickcolor\":\"black\",\"tickwidth\":1},\"yaxis7\":{\"anchor\":\"x4\",\"domain\":[0.0,0.425],\"matches\":\"y5\",\"showticklabels\":false,\"title\":{\"text\":\"\\u6570\\u636e\\u8f74\"},\"range\":[0,500],\"showgrid\":true,\"zeroline\":false,\"zerolinewidth\":1,\"zerolinecolor\":\"black\",\"linecolor\":\"black\",\"linewidth\":1,\"ticks\":\"inside\",\"tickcolor\":\"black\",\"tickwidth\":1},\"yaxis8\":{\"anchor\":\"x4\",\"overlaying\":\"y7\",\"side\":\"right\",\"title\":{\"font\":{\"size\":15,\"family\":\"Kaiti\",\"color\":\"black\"}},\"range\":[0,0.1],\"showgrid\":false,\"zeroline\":false,\"zerolinewidth\":1,\"zerolinecolor\":\"black\",\"linecolor\":\"black\",\"linewidth\":1,\"ticks\":\"inside\",\"tickcolor\":\"black\",\"tickwidth\":1},\"title\":{\"text\":\"\\u8868\\u7684\\u540d\\u79f0\",\"font\":{\"size\":17,\"family\":\"Kaiti\",\"color\":\"black\"}},\"legend\":{\"font\":{\"size\":13,\"family\":\"Kaiti\",\"color\":\"black\"},\"title\":{},\"tracegroupgap\":0,\"itemclick\":\"toggle\",\"itemdoubleclick\":\"toggleothers\",\"x\":1.05},\"width\":950,\"height\":534},                        {\"displaylogo\": false, \"responsive\": true}                    ).then(function(){\n",
       "                            \n",
       "var gd = document.getElementById('288fae25-5079-4b2a-b113-27d5873dc70f');\n",
       "var x = new MutationObserver(function (mutations, observer) {{\n",
       "        var display = window.getComputedStyle(gd).display;\n",
       "        if (!display || display === 'none') {{\n",
       "            console.log([gd, 'removed!']);\n",
       "            Plotly.purge(gd);\n",
       "            observer.disconnect();\n",
       "        }}\n",
       "}});\n",
       "\n",
       "// Listen for the removal of the full notebook cells\n",
       "var notebookContainer = gd.closest('#notebook-container');\n",
       "if (notebookContainer) {{\n",
       "    x.observe(notebookContainer, {childList: true});\n",
       "}}\n",
       "\n",
       "// Listen for the clearing of the current output cell\n",
       "var outputEl = gd.closest('.output');\n",
       "if (outputEl) {{\n",
       "    x.observe(outputEl, {childList: true});\n",
       "}}\n",
       "\n",
       "                        })                };                });            </script>        </div>"
      ]
     },
     "metadata": {},
     "output_type": "display_data"
    }
   ],
   "source": [
    "s = PlotModel(grid=(2,2))\n",
    "fig = Fig(plot_model=s,title='表的名称')\n",
    "\n",
    "ls1 = LineModel()\n",
    "ls2 = LineModel(color='#ce5c5c')\n",
    "ls3 = LineModel(color='#fbc357')\n",
    "\n",
    "fig.add_line(df,x='时间',y='数据1',yaxis='left',y_name='数据轴',position=1,y_range=(0,500),line_model=ls1)\n",
    "fig.add_line(df,x='时间',y='数据2',yaxis='left',y_name='数据轴',position=1,y_range=(0,500),line_model=ls1)\n",
    "fig.add_line(df,x='时间',y='数据3',yaxis='right',position=1,y_range=(0,0.1),line_model=ls1)\n",
    "\n",
    "fig.add_line(df,x='时间',y='数据1',yaxis='left',y_name='数据轴',position=2,y_range=(0,500),line_model=ls1)\n",
    "fig.add_line(df,x='时间',y='数据2',yaxis='left',y_name='数据轴',position=2,y_range=(0,500),line_model=ls2)\n",
    "fig.add_line(df,x='时间',y='数据3',yaxis='right',position=2,y_range=(0,0.1),line_model=ls3)\n",
    "\n",
    "fig.add_line(df,x='时间',y='数据1',yaxis='left',y_name='数据轴',position=3,y_range=(0,500),line_model=ls1)\n",
    "fig.add_line(df,x='时间',y='数据2',yaxis='left',y_name='数据轴',position=3,y_range=(0,500),line_model=ls2)\n",
    "fig.add_line(df,x='时间',y='数据3',yaxis='right',position=3,y_range=(0,0.1),line_model=ls3)\n",
    "\n",
    "fig.add_line(df,x='时间',y='数据1',yaxis='left',y_name='数据轴',position=4,y_range=(0,500),line_model=ls1)\n",
    "fig.add_line(df,x='时间',y='数据2',yaxis='left',y_name='数据轴',position=4,y_range=(0,500),line_model=ls2)\n",
    "fig.add_line(df,x='时间',y='数据3',yaxis='right',position=4,y_range=(0,0.1),line_model=ls3)\n",
    "\n",
    "fig.show()"
   ]
  },
  {
   "cell_type": "code",
   "execution_count": null,
   "id": "63ceec39-6fc6-4041-8953-b9bad6cfd918",
   "metadata": {},
   "outputs": [],
   "source": []
  }
 ],
 "metadata": {
  "kernelspec": {
   "display_name": "Python 3 (ipykernel)",
   "language": "python",
   "name": "python3"
  },
  "language_info": {
   "codemirror_mode": {
    "name": "ipython",
    "version": 3
   },
   "file_extension": ".py",
   "mimetype": "text/x-python",
   "name": "python",
   "nbconvert_exporter": "python",
   "pygments_lexer": "ipython3",
   "version": "3.13.0"
  }
 },
 "nbformat": 4,
 "nbformat_minor": 5
}
